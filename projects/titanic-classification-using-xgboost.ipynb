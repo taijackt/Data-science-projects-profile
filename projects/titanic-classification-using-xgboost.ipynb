{
 "cells": [
  {
   "cell_type": "markdown",
   "metadata": {
    "_cell_guid": "79c7e3d0-c299-4dcb-8224-4455121ee9b0",
    "_uuid": "d629ff2d2480ee46fbb7e2d37f6b5fab8052498a",
    "collapsed": true,
    "papermill": {
     "duration": 0.046126,
     "end_time": "2020-12-17T05:25:25.329284",
     "exception": false,
     "start_time": "2020-12-17T05:25:25.283158",
     "status": "completed"
    },
    "tags": []
   },
   "source": [
    "# Titanic Survival Classification project\n",
    "\n",
    "- Just finished my GBT tutorial, try to apply what I have learnt to this project.\n",
    "\n",
    "\n",
    "### Problems identification\n",
    "- Given the passagers' dataset, try the predict whether they survive or not in the accident.\n",
    "\n",
    "### Data\n",
    "#### Data downloaded from kaggle\n",
    "\n",
    "#### training set (train.csv)\n",
    "#### test set (test.csv)\n",
    "- The training set should be used to build your machine learning models. For the training set, we provide the outcome (also known as the “ground truth”) for each passenger. Your model will be based on “features” like passengers’ gender and class. You can also use feature engineering to create new features.\n",
    "\n",
    "- The test set should be used to see how well your model performs on unseen data. For the test set, we do not provide the ground truth for each passenger. It is your job to predict these outcomes. For each passenger in the test set, use the model you trained to predict whether or not they survived the sinking of the Titanic.\n",
    "\n",
    "#### Data Dictionary\n",
    "- survival:Survival (0 = No, 1 = Yes)\n",
    "- pclass: Ticket class (1 = 1st, 2 = 2nd, 3 = 3rd)\n",
    "- sex: Sex\n",
    "- Age: Age in years\n",
    "- sibsp: # of siblings / spouses aboard the Titanic\n",
    "- parch: # of parents / children aboard the Titanic\n",
    "- ticket: Ticket number\n",
    "- fare: Passenger fare\n",
    "- cabin: Cabin number\n",
    "- embarked: Port of Embarkation (C = Cherbourg, Q = Queenstown, S = Southampton)\n",
    "- More info: see-> https://www.kaggle.com/c/titanic/data"
   ]
  },
  {
   "cell_type": "code",
   "execution_count": 1,
   "metadata": {
    "execution": {
     "iopub.execute_input": "2020-12-17T05:25:25.422668Z",
     "iopub.status.busy": "2020-12-17T05:25:25.422128Z",
     "iopub.status.idle": "2020-12-17T05:25:26.251167Z",
     "shell.execute_reply": "2020-12-17T05:25:26.250544Z"
    },
    "papermill": {
     "duration": 0.879331,
     "end_time": "2020-12-17T05:25:26.251274",
     "exception": false,
     "start_time": "2020-12-17T05:25:25.371943",
     "status": "completed"
    },
    "tags": []
   },
   "outputs": [],
   "source": [
    "# Import the tools for data analysis\n",
    "import pandas as pd\n",
    "import numpy as np\n",
    "import matplotlib.pyplot as plt\n",
    "%matplotlib inline\n",
    "import seaborn as sns\n",
    "sns.set_style('darkgrid')"
   ]
  },
  {
   "cell_type": "code",
   "execution_count": 2,
   "metadata": {
    "execution": {
     "iopub.execute_input": "2020-12-17T05:25:26.367149Z",
     "iopub.status.busy": "2020-12-17T05:25:26.366463Z",
     "iopub.status.idle": "2020-12-17T05:25:26.408962Z",
     "shell.execute_reply": "2020-12-17T05:25:26.407976Z"
    },
    "papermill": {
     "duration": 0.103182,
     "end_time": "2020-12-17T05:25:26.409103",
     "exception": false,
     "start_time": "2020-12-17T05:25:26.305921",
     "status": "completed"
    },
    "tags": []
   },
   "outputs": [],
   "source": [
    "# Read the data\n",
    "train_df = pd.read_csv('../input/titanic/train.csv')\n",
    "test_df = pd.read_csv('../input/titanic/test.csv')"
   ]
  },
  {
   "cell_type": "markdown",
   "metadata": {
    "papermill": {
     "duration": 0.050824,
     "end_time": "2020-12-17T05:25:26.512594",
     "exception": false,
     "start_time": "2020-12-17T05:25:26.461770",
     "status": "completed"
    },
    "tags": []
   },
   "source": [
    "# Basic information of the data"
   ]
  },
  {
   "cell_type": "code",
   "execution_count": 3,
   "metadata": {
    "execution": {
     "iopub.execute_input": "2020-12-17T05:25:26.621906Z",
     "iopub.status.busy": "2020-12-17T05:25:26.621018Z",
     "iopub.status.idle": "2020-12-17T05:25:26.625906Z",
     "shell.execute_reply": "2020-12-17T05:25:26.626480Z"
    },
    "papermill": {
     "duration": 0.0601,
     "end_time": "2020-12-17T05:25:26.626606",
     "exception": false,
     "start_time": "2020-12-17T05:25:26.566506",
     "status": "completed"
    },
    "tags": []
   },
   "outputs": [
    {
     "data": {
      "text/plain": [
       "((891, 12), (418, 11))"
      ]
     },
     "execution_count": 3,
     "metadata": {},
     "output_type": "execute_result"
    }
   ],
   "source": [
    "# size\n",
    "train_df.shape, test_df.shape"
   ]
  },
  {
   "cell_type": "code",
   "execution_count": 4,
   "metadata": {
    "execution": {
     "iopub.execute_input": "2020-12-17T05:25:26.724539Z",
     "iopub.status.busy": "2020-12-17T05:25:26.723680Z",
     "iopub.status.idle": "2020-12-17T05:25:26.747262Z",
     "shell.execute_reply": "2020-12-17T05:25:26.746369Z"
    },
    "papermill": {
     "duration": 0.070933,
     "end_time": "2020-12-17T05:25:26.747395",
     "exception": false,
     "start_time": "2020-12-17T05:25:26.676462",
     "status": "completed"
    },
    "tags": []
   },
   "outputs": [
    {
     "data": {
      "text/html": [
       "<div>\n",
       "<style scoped>\n",
       "    .dataframe tbody tr th:only-of-type {\n",
       "        vertical-align: middle;\n",
       "    }\n",
       "\n",
       "    .dataframe tbody tr th {\n",
       "        vertical-align: top;\n",
       "    }\n",
       "\n",
       "    .dataframe thead th {\n",
       "        text-align: right;\n",
       "    }\n",
       "</style>\n",
       "<table border=\"1\" class=\"dataframe\">\n",
       "  <thead>\n",
       "    <tr style=\"text-align: right;\">\n",
       "      <th></th>\n",
       "      <th>PassengerId</th>\n",
       "      <th>Survived</th>\n",
       "      <th>Pclass</th>\n",
       "      <th>Name</th>\n",
       "      <th>Sex</th>\n",
       "      <th>Age</th>\n",
       "      <th>SibSp</th>\n",
       "      <th>Parch</th>\n",
       "      <th>Ticket</th>\n",
       "      <th>Fare</th>\n",
       "      <th>Cabin</th>\n",
       "      <th>Embarked</th>\n",
       "    </tr>\n",
       "  </thead>\n",
       "  <tbody>\n",
       "    <tr>\n",
       "      <th>0</th>\n",
       "      <td>1</td>\n",
       "      <td>0</td>\n",
       "      <td>3</td>\n",
       "      <td>Braund, Mr. Owen Harris</td>\n",
       "      <td>male</td>\n",
       "      <td>22.0</td>\n",
       "      <td>1</td>\n",
       "      <td>0</td>\n",
       "      <td>A/5 21171</td>\n",
       "      <td>7.2500</td>\n",
       "      <td>NaN</td>\n",
       "      <td>S</td>\n",
       "    </tr>\n",
       "    <tr>\n",
       "      <th>1</th>\n",
       "      <td>2</td>\n",
       "      <td>1</td>\n",
       "      <td>1</td>\n",
       "      <td>Cumings, Mrs. John Bradley (Florence Briggs Th...</td>\n",
       "      <td>female</td>\n",
       "      <td>38.0</td>\n",
       "      <td>1</td>\n",
       "      <td>0</td>\n",
       "      <td>PC 17599</td>\n",
       "      <td>71.2833</td>\n",
       "      <td>C85</td>\n",
       "      <td>C</td>\n",
       "    </tr>\n",
       "  </tbody>\n",
       "</table>\n",
       "</div>"
      ],
      "text/plain": [
       "   PassengerId  Survived  Pclass  \\\n",
       "0            1         0       3   \n",
       "1            2         1       1   \n",
       "\n",
       "                                                Name     Sex   Age  SibSp  \\\n",
       "0                            Braund, Mr. Owen Harris    male  22.0      1   \n",
       "1  Cumings, Mrs. John Bradley (Florence Briggs Th...  female  38.0      1   \n",
       "\n",
       "   Parch     Ticket     Fare Cabin Embarked  \n",
       "0      0  A/5 21171   7.2500   NaN        S  \n",
       "1      0   PC 17599  71.2833   C85        C  "
      ]
     },
     "execution_count": 4,
     "metadata": {},
     "output_type": "execute_result"
    }
   ],
   "source": [
    "train_df.head(2)"
   ]
  },
  {
   "cell_type": "code",
   "execution_count": 5,
   "metadata": {
    "execution": {
     "iopub.execute_input": "2020-12-17T05:25:26.863405Z",
     "iopub.status.busy": "2020-12-17T05:25:26.862455Z",
     "iopub.status.idle": "2020-12-17T05:25:26.866223Z",
     "shell.execute_reply": "2020-12-17T05:25:26.866832Z"
    },
    "papermill": {
     "duration": 0.065588,
     "end_time": "2020-12-17T05:25:26.866999",
     "exception": false,
     "start_time": "2020-12-17T05:25:26.801411",
     "status": "completed"
    },
    "tags": []
   },
   "outputs": [
    {
     "data": {
      "text/html": [
       "<div>\n",
       "<style scoped>\n",
       "    .dataframe tbody tr th:only-of-type {\n",
       "        vertical-align: middle;\n",
       "    }\n",
       "\n",
       "    .dataframe tbody tr th {\n",
       "        vertical-align: top;\n",
       "    }\n",
       "\n",
       "    .dataframe thead th {\n",
       "        text-align: right;\n",
       "    }\n",
       "</style>\n",
       "<table border=\"1\" class=\"dataframe\">\n",
       "  <thead>\n",
       "    <tr style=\"text-align: right;\">\n",
       "      <th></th>\n",
       "      <th>PassengerId</th>\n",
       "      <th>Pclass</th>\n",
       "      <th>Name</th>\n",
       "      <th>Sex</th>\n",
       "      <th>Age</th>\n",
       "      <th>SibSp</th>\n",
       "      <th>Parch</th>\n",
       "      <th>Ticket</th>\n",
       "      <th>Fare</th>\n",
       "      <th>Cabin</th>\n",
       "      <th>Embarked</th>\n",
       "    </tr>\n",
       "  </thead>\n",
       "  <tbody>\n",
       "    <tr>\n",
       "      <th>0</th>\n",
       "      <td>892</td>\n",
       "      <td>3</td>\n",
       "      <td>Kelly, Mr. James</td>\n",
       "      <td>male</td>\n",
       "      <td>34.5</td>\n",
       "      <td>0</td>\n",
       "      <td>0</td>\n",
       "      <td>330911</td>\n",
       "      <td>7.8292</td>\n",
       "      <td>NaN</td>\n",
       "      <td>Q</td>\n",
       "    </tr>\n",
       "    <tr>\n",
       "      <th>1</th>\n",
       "      <td>893</td>\n",
       "      <td>3</td>\n",
       "      <td>Wilkes, Mrs. James (Ellen Needs)</td>\n",
       "      <td>female</td>\n",
       "      <td>47.0</td>\n",
       "      <td>1</td>\n",
       "      <td>0</td>\n",
       "      <td>363272</td>\n",
       "      <td>7.0000</td>\n",
       "      <td>NaN</td>\n",
       "      <td>S</td>\n",
       "    </tr>\n",
       "  </tbody>\n",
       "</table>\n",
       "</div>"
      ],
      "text/plain": [
       "   PassengerId  Pclass                              Name     Sex   Age  SibSp  \\\n",
       "0          892       3                  Kelly, Mr. James    male  34.5      0   \n",
       "1          893       3  Wilkes, Mrs. James (Ellen Needs)  female  47.0      1   \n",
       "\n",
       "   Parch  Ticket    Fare Cabin Embarked  \n",
       "0      0  330911  7.8292   NaN        Q  \n",
       "1      0  363272  7.0000   NaN        S  "
      ]
     },
     "execution_count": 5,
     "metadata": {},
     "output_type": "execute_result"
    }
   ],
   "source": [
    "test_df.head(2)"
   ]
  },
  {
   "cell_type": "code",
   "execution_count": 6,
   "metadata": {
    "execution": {
     "iopub.execute_input": "2020-12-17T05:25:26.966207Z",
     "iopub.status.busy": "2020-12-17T05:25:26.965244Z",
     "iopub.status.idle": "2020-12-17T05:25:26.973223Z",
     "shell.execute_reply": "2020-12-17T05:25:26.973761Z"
    },
    "papermill": {
     "duration": 0.058335,
     "end_time": "2020-12-17T05:25:26.973883",
     "exception": false,
     "start_time": "2020-12-17T05:25:26.915548",
     "status": "completed"
    },
    "tags": []
   },
   "outputs": [
    {
     "data": {
      "text/plain": [
       "PassengerId      0\n",
       "Survived         0\n",
       "Pclass           0\n",
       "Name             0\n",
       "Sex              0\n",
       "Age            177\n",
       "SibSp            0\n",
       "Parch            0\n",
       "Ticket           0\n",
       "Fare             0\n",
       "Cabin          687\n",
       "Embarked         2\n",
       "dtype: int64"
      ]
     },
     "execution_count": 6,
     "metadata": {},
     "output_type": "execute_result"
    }
   ],
   "source": [
    "train_df.isnull().sum()"
   ]
  },
  {
   "cell_type": "code",
   "execution_count": 7,
   "metadata": {
    "execution": {
     "iopub.execute_input": "2020-12-17T05:25:27.071507Z",
     "iopub.status.busy": "2020-12-17T05:25:27.070682Z",
     "iopub.status.idle": "2020-12-17T05:25:27.078559Z",
     "shell.execute_reply": "2020-12-17T05:25:27.078066Z"
    },
    "papermill": {
     "duration": 0.056428,
     "end_time": "2020-12-17T05:25:27.078672",
     "exception": false,
     "start_time": "2020-12-17T05:25:27.022244",
     "status": "completed"
    },
    "tags": []
   },
   "outputs": [
    {
     "data": {
      "text/plain": [
       "PassengerId      0\n",
       "Pclass           0\n",
       "Name             0\n",
       "Sex              0\n",
       "Age             86\n",
       "SibSp            0\n",
       "Parch            0\n",
       "Ticket           0\n",
       "Fare             1\n",
       "Cabin          327\n",
       "Embarked         0\n",
       "dtype: int64"
      ]
     },
     "execution_count": 7,
     "metadata": {},
     "output_type": "execute_result"
    }
   ],
   "source": [
    "test_df.isnull().sum()"
   ]
  },
  {
   "cell_type": "markdown",
   "metadata": {
    "papermill": {
     "duration": 0.045591,
     "end_time": "2020-12-17T05:25:27.169800",
     "exception": false,
     "start_time": "2020-12-17T05:25:27.124209",
     "status": "completed"
    },
    "tags": []
   },
   "source": [
    "### Combined the data for preprocessing"
   ]
  },
  {
   "cell_type": "code",
   "execution_count": 8,
   "metadata": {
    "execution": {
     "iopub.execute_input": "2020-12-17T05:25:27.271801Z",
     "iopub.status.busy": "2020-12-17T05:25:27.270989Z",
     "iopub.status.idle": "2020-12-17T05:25:27.274956Z",
     "shell.execute_reply": "2020-12-17T05:25:27.275359Z"
    },
    "papermill": {
     "duration": 0.06007,
     "end_time": "2020-12-17T05:25:27.275480",
     "exception": false,
     "start_time": "2020-12-17T05:25:27.215410",
     "status": "completed"
    },
    "tags": []
   },
   "outputs": [],
   "source": [
    "comp_df = pd.concat([train_df, test_df])\n",
    "comp_df.reset_index(drop=True, inplace=True)"
   ]
  },
  {
   "cell_type": "code",
   "execution_count": 9,
   "metadata": {
    "execution": {
     "iopub.execute_input": "2020-12-17T05:25:27.372567Z",
     "iopub.status.busy": "2020-12-17T05:25:27.372072Z",
     "iopub.status.idle": "2020-12-17T05:25:27.384285Z",
     "shell.execute_reply": "2020-12-17T05:25:27.384739Z"
    },
    "papermill": {
     "duration": 0.063012,
     "end_time": "2020-12-17T05:25:27.384851",
     "exception": false,
     "start_time": "2020-12-17T05:25:27.321839",
     "status": "completed"
    },
    "tags": []
   },
   "outputs": [
    {
     "data": {
      "text/html": [
       "<div>\n",
       "<style scoped>\n",
       "    .dataframe tbody tr th:only-of-type {\n",
       "        vertical-align: middle;\n",
       "    }\n",
       "\n",
       "    .dataframe tbody tr th {\n",
       "        vertical-align: top;\n",
       "    }\n",
       "\n",
       "    .dataframe thead th {\n",
       "        text-align: right;\n",
       "    }\n",
       "</style>\n",
       "<table border=\"1\" class=\"dataframe\">\n",
       "  <thead>\n",
       "    <tr style=\"text-align: right;\">\n",
       "      <th></th>\n",
       "      <th>PassengerId</th>\n",
       "      <th>Survived</th>\n",
       "      <th>Pclass</th>\n",
       "      <th>Name</th>\n",
       "      <th>Sex</th>\n",
       "      <th>Age</th>\n",
       "      <th>SibSp</th>\n",
       "      <th>Parch</th>\n",
       "      <th>Ticket</th>\n",
       "      <th>Fare</th>\n",
       "      <th>Cabin</th>\n",
       "      <th>Embarked</th>\n",
       "    </tr>\n",
       "  </thead>\n",
       "  <tbody>\n",
       "    <tr>\n",
       "      <th>0</th>\n",
       "      <td>1</td>\n",
       "      <td>0.0</td>\n",
       "      <td>3</td>\n",
       "      <td>Braund, Mr. Owen Harris</td>\n",
       "      <td>male</td>\n",
       "      <td>22.0</td>\n",
       "      <td>1</td>\n",
       "      <td>0</td>\n",
       "      <td>A/5 21171</td>\n",
       "      <td>7.25</td>\n",
       "      <td>NaN</td>\n",
       "      <td>S</td>\n",
       "    </tr>\n",
       "  </tbody>\n",
       "</table>\n",
       "</div>"
      ],
      "text/plain": [
       "   PassengerId  Survived  Pclass                     Name   Sex   Age  SibSp  \\\n",
       "0            1       0.0       3  Braund, Mr. Owen Harris  male  22.0      1   \n",
       "\n",
       "   Parch     Ticket  Fare Cabin Embarked  \n",
       "0      0  A/5 21171  7.25   NaN        S  "
      ]
     },
     "execution_count": 9,
     "metadata": {},
     "output_type": "execute_result"
    }
   ],
   "source": [
    "comp_df.head(1)"
   ]
  },
  {
   "cell_type": "markdown",
   "metadata": {
    "papermill": {
     "duration": 0.04802,
     "end_time": "2020-12-17T05:25:27.479342",
     "exception": false,
     "start_time": "2020-12-17T05:25:27.431322",
     "status": "completed"
    },
    "tags": []
   },
   "source": [
    "# Basic Data analysis"
   ]
  },
  {
   "cell_type": "code",
   "execution_count": 10,
   "metadata": {
    "execution": {
     "iopub.execute_input": "2020-12-17T05:25:27.577924Z",
     "iopub.status.busy": "2020-12-17T05:25:27.577326Z",
     "iopub.status.idle": "2020-12-17T05:25:27.584319Z",
     "shell.execute_reply": "2020-12-17T05:25:27.584836Z"
    },
    "papermill": {
     "duration": 0.056923,
     "end_time": "2020-12-17T05:25:27.584979",
     "exception": false,
     "start_time": "2020-12-17T05:25:27.528056",
     "status": "completed"
    },
    "tags": []
   },
   "outputs": [
    {
     "data": {
      "text/plain": [
       "PassengerId       0\n",
       "Survived        418\n",
       "Pclass            0\n",
       "Name              0\n",
       "Sex               0\n",
       "Age             263\n",
       "SibSp             0\n",
       "Parch             0\n",
       "Ticket            0\n",
       "Fare              1\n",
       "Cabin          1014\n",
       "Embarked          2\n",
       "dtype: int64"
      ]
     },
     "execution_count": 10,
     "metadata": {},
     "output_type": "execute_result"
    }
   ],
   "source": [
    "# Check for missing data\n",
    "comp_df.isnull().sum()"
   ]
  },
  {
   "cell_type": "markdown",
   "metadata": {
    "papermill": {
     "duration": 0.046659,
     "end_time": "2020-12-17T05:25:27.679054",
     "exception": false,
     "start_time": "2020-12-17T05:25:27.632395",
     "status": "completed"
    },
    "tags": []
   },
   "source": [
    "- There is over 1000 missing data in 'Cabin' column, I will drop this column.\n",
    "- over 250 in Age\n",
    "- Ignore the missing data in 'Survived' column"
   ]
  },
  {
   "cell_type": "code",
   "execution_count": 11,
   "metadata": {
    "execution": {
     "iopub.execute_input": "2020-12-17T05:25:27.780423Z",
     "iopub.status.busy": "2020-12-17T05:25:27.779781Z",
     "iopub.status.idle": "2020-12-17T05:25:27.811005Z",
     "shell.execute_reply": "2020-12-17T05:25:27.811502Z"
    },
    "papermill": {
     "duration": 0.084773,
     "end_time": "2020-12-17T05:25:27.811635",
     "exception": false,
     "start_time": "2020-12-17T05:25:27.726862",
     "status": "completed"
    },
    "tags": []
   },
   "outputs": [
    {
     "data": {
      "text/html": [
       "<div>\n",
       "<style scoped>\n",
       "    .dataframe tbody tr th:only-of-type {\n",
       "        vertical-align: middle;\n",
       "    }\n",
       "\n",
       "    .dataframe tbody tr th {\n",
       "        vertical-align: top;\n",
       "    }\n",
       "\n",
       "    .dataframe thead th {\n",
       "        text-align: right;\n",
       "    }\n",
       "</style>\n",
       "<table border=\"1\" class=\"dataframe\">\n",
       "  <thead>\n",
       "    <tr style=\"text-align: right;\">\n",
       "      <th></th>\n",
       "      <th>PassengerId</th>\n",
       "      <th>Survived</th>\n",
       "      <th>Pclass</th>\n",
       "      <th>Age</th>\n",
       "      <th>SibSp</th>\n",
       "      <th>Parch</th>\n",
       "      <th>Fare</th>\n",
       "    </tr>\n",
       "  </thead>\n",
       "  <tbody>\n",
       "    <tr>\n",
       "      <th>count</th>\n",
       "      <td>1309.000000</td>\n",
       "      <td>891.000000</td>\n",
       "      <td>1309.000000</td>\n",
       "      <td>1046.000000</td>\n",
       "      <td>1309.000000</td>\n",
       "      <td>1309.000000</td>\n",
       "      <td>1308.000000</td>\n",
       "    </tr>\n",
       "    <tr>\n",
       "      <th>mean</th>\n",
       "      <td>655.000000</td>\n",
       "      <td>0.383838</td>\n",
       "      <td>2.294882</td>\n",
       "      <td>29.881138</td>\n",
       "      <td>0.498854</td>\n",
       "      <td>0.385027</td>\n",
       "      <td>33.295479</td>\n",
       "    </tr>\n",
       "    <tr>\n",
       "      <th>std</th>\n",
       "      <td>378.020061</td>\n",
       "      <td>0.486592</td>\n",
       "      <td>0.837836</td>\n",
       "      <td>14.413493</td>\n",
       "      <td>1.041658</td>\n",
       "      <td>0.865560</td>\n",
       "      <td>51.758668</td>\n",
       "    </tr>\n",
       "    <tr>\n",
       "      <th>min</th>\n",
       "      <td>1.000000</td>\n",
       "      <td>0.000000</td>\n",
       "      <td>1.000000</td>\n",
       "      <td>0.170000</td>\n",
       "      <td>0.000000</td>\n",
       "      <td>0.000000</td>\n",
       "      <td>0.000000</td>\n",
       "    </tr>\n",
       "    <tr>\n",
       "      <th>25%</th>\n",
       "      <td>328.000000</td>\n",
       "      <td>0.000000</td>\n",
       "      <td>2.000000</td>\n",
       "      <td>21.000000</td>\n",
       "      <td>0.000000</td>\n",
       "      <td>0.000000</td>\n",
       "      <td>7.895800</td>\n",
       "    </tr>\n",
       "    <tr>\n",
       "      <th>50%</th>\n",
       "      <td>655.000000</td>\n",
       "      <td>0.000000</td>\n",
       "      <td>3.000000</td>\n",
       "      <td>28.000000</td>\n",
       "      <td>0.000000</td>\n",
       "      <td>0.000000</td>\n",
       "      <td>14.454200</td>\n",
       "    </tr>\n",
       "    <tr>\n",
       "      <th>75%</th>\n",
       "      <td>982.000000</td>\n",
       "      <td>1.000000</td>\n",
       "      <td>3.000000</td>\n",
       "      <td>39.000000</td>\n",
       "      <td>1.000000</td>\n",
       "      <td>0.000000</td>\n",
       "      <td>31.275000</td>\n",
       "    </tr>\n",
       "    <tr>\n",
       "      <th>max</th>\n",
       "      <td>1309.000000</td>\n",
       "      <td>1.000000</td>\n",
       "      <td>3.000000</td>\n",
       "      <td>80.000000</td>\n",
       "      <td>8.000000</td>\n",
       "      <td>9.000000</td>\n",
       "      <td>512.329200</td>\n",
       "    </tr>\n",
       "  </tbody>\n",
       "</table>\n",
       "</div>"
      ],
      "text/plain": [
       "       PassengerId    Survived       Pclass          Age        SibSp  \\\n",
       "count  1309.000000  891.000000  1309.000000  1046.000000  1309.000000   \n",
       "mean    655.000000    0.383838     2.294882    29.881138     0.498854   \n",
       "std     378.020061    0.486592     0.837836    14.413493     1.041658   \n",
       "min       1.000000    0.000000     1.000000     0.170000     0.000000   \n",
       "25%     328.000000    0.000000     2.000000    21.000000     0.000000   \n",
       "50%     655.000000    0.000000     3.000000    28.000000     0.000000   \n",
       "75%     982.000000    1.000000     3.000000    39.000000     1.000000   \n",
       "max    1309.000000    1.000000     3.000000    80.000000     8.000000   \n",
       "\n",
       "             Parch         Fare  \n",
       "count  1309.000000  1308.000000  \n",
       "mean      0.385027    33.295479  \n",
       "std       0.865560    51.758668  \n",
       "min       0.000000     0.000000  \n",
       "25%       0.000000     7.895800  \n",
       "50%       0.000000    14.454200  \n",
       "75%       0.000000    31.275000  \n",
       "max       9.000000   512.329200  "
      ]
     },
     "execution_count": 11,
     "metadata": {},
     "output_type": "execute_result"
    }
   ],
   "source": [
    "# Descriptive statistic of the data\n",
    "comp_df.describe()"
   ]
  },
  {
   "cell_type": "markdown",
   "metadata": {
    "papermill": {
     "duration": 0.053699,
     "end_time": "2020-12-17T05:25:27.919637",
     "exception": false,
     "start_time": "2020-12-17T05:25:27.865938",
     "status": "completed"
    },
    "tags": []
   },
   "source": [
    "The variance of Fare is quite high."
   ]
  },
  {
   "cell_type": "code",
   "execution_count": 12,
   "metadata": {
    "execution": {
     "iopub.execute_input": "2020-12-17T05:25:28.030448Z",
     "iopub.status.busy": "2020-12-17T05:25:28.029884Z",
     "iopub.status.idle": "2020-12-17T05:25:28.035485Z",
     "shell.execute_reply": "2020-12-17T05:25:28.035937Z"
    },
    "papermill": {
     "duration": 0.062637,
     "end_time": "2020-12-17T05:25:28.036049",
     "exception": false,
     "start_time": "2020-12-17T05:25:27.973412",
     "status": "completed"
    },
    "tags": []
   },
   "outputs": [
    {
     "data": {
      "text/plain": [
       "PassengerId      int64\n",
       "Survived       float64\n",
       "Pclass           int64\n",
       "Name            object\n",
       "Sex             object\n",
       "Age            float64\n",
       "SibSp            int64\n",
       "Parch            int64\n",
       "Ticket          object\n",
       "Fare           float64\n",
       "Cabin           object\n",
       "Embarked        object\n",
       "dtype: object"
      ]
     },
     "execution_count": 12,
     "metadata": {},
     "output_type": "execute_result"
    }
   ],
   "source": [
    "comp_df.dtypes"
   ]
  },
  {
   "cell_type": "markdown",
   "metadata": {
    "papermill": {
     "duration": 0.048791,
     "end_time": "2020-12-17T05:25:28.133669",
     "exception": false,
     "start_time": "2020-12-17T05:25:28.084878",
     "status": "completed"
    },
    "tags": []
   },
   "source": [
    "# Data EDA and filling missing data."
   ]
  },
  {
   "cell_type": "markdown",
   "metadata": {
    "papermill": {
     "duration": 0.048523,
     "end_time": "2020-12-17T05:25:28.231572",
     "exception": false,
     "start_time": "2020-12-17T05:25:28.183049",
     "status": "completed"
    },
    "tags": []
   },
   "source": [
    "#### Drop the passengerID and Cabin column"
   ]
  },
  {
   "cell_type": "code",
   "execution_count": 13,
   "metadata": {
    "execution": {
     "iopub.execute_input": "2020-12-17T05:25:28.332322Z",
     "iopub.status.busy": "2020-12-17T05:25:28.331784Z",
     "iopub.status.idle": "2020-12-17T05:25:28.340334Z",
     "shell.execute_reply": "2020-12-17T05:25:28.339752Z"
    },
    "papermill": {
     "duration": 0.060067,
     "end_time": "2020-12-17T05:25:28.340428",
     "exception": false,
     "start_time": "2020-12-17T05:25:28.280361",
     "status": "completed"
    },
    "tags": []
   },
   "outputs": [],
   "source": [
    "comp_df.drop('PassengerId',axis=1, inplace=True)\n",
    "comp_df.drop('Cabin',axis=1,inplace=True)\n",
    "comp_df.drop(\"Ticket\",axis=1, inplace=True)"
   ]
  },
  {
   "cell_type": "markdown",
   "metadata": {
    "papermill": {
     "duration": 0.051707,
     "end_time": "2020-12-17T05:25:28.443444",
     "exception": false,
     "start_time": "2020-12-17T05:25:28.391737",
     "status": "completed"
    },
    "tags": []
   },
   "source": [
    "#### Number of survival vs not survival"
   ]
  },
  {
   "cell_type": "code",
   "execution_count": 14,
   "metadata": {
    "execution": {
     "iopub.execute_input": "2020-12-17T05:25:28.552489Z",
     "iopub.status.busy": "2020-12-17T05:25:28.550796Z",
     "iopub.status.idle": "2020-12-17T05:25:28.704713Z",
     "shell.execute_reply": "2020-12-17T05:25:28.705136Z"
    },
    "papermill": {
     "duration": 0.210947,
     "end_time": "2020-12-17T05:25:28.705266",
     "exception": false,
     "start_time": "2020-12-17T05:25:28.494319",
     "status": "completed"
    },
    "tags": []
   },
   "outputs": [
    {
     "data": {
      "text/plain": [
       "<matplotlib.axes._subplots.AxesSubplot at 0x7fa2de644c50>"
      ]
     },
     "execution_count": 14,
     "metadata": {},
     "output_type": "execute_result"
    },
    {
     "data": {
      "image/png": "[encoded data removed]",
      "text/plain": [
       "<Figure size 432x288 with 1 Axes>"
      ]
     },
     "metadata": {},
     "output_type": "display_data"
    }
   ],
   "source": [
    "sns.countplot('Survived',data=comp_df)"
   ]
  },
  {
   "cell_type": "markdown",
   "metadata": {
    "papermill": {
     "duration": 0.051175,
     "end_time": "2020-12-17T05:25:28.806495",
     "exception": false,
     "start_time": "2020-12-17T05:25:28.755320",
     "status": "completed"
    },
    "tags": []
   },
   "source": [
    "### Survived vs Sex, Pclass, Embarled"
   ]
  },
  {
   "cell_type": "code",
   "execution_count": 15,
   "metadata": {
    "execution": {
     "iopub.execute_input": "2020-12-17T05:25:28.934227Z",
     "iopub.status.busy": "2020-12-17T05:25:28.931494Z",
     "iopub.status.idle": "2020-12-17T05:25:29.405482Z",
     "shell.execute_reply": "2020-12-17T05:25:29.406011Z"
    },
    "papermill": {
     "duration": 0.540897,
     "end_time": "2020-12-17T05:25:29.406151",
     "exception": false,
     "start_time": "2020-12-17T05:25:28.865254",
     "status": "completed"
    },
    "tags": []
   },
   "outputs": [
    {
     "data": {
      "image/png": "[encoded data removed]",
      "text/plain": [
       "<Figure size 504x936 with 3 Axes>"
      ]
     },
     "metadata": {},
     "output_type": "display_data"
    }
   ],
   "source": [
    "fig ,(ax1, ax2,ax3)= plt.subplots(3,1,figsize=(7,13))\n",
    "pd.crosstab(comp_df.Sex, comp_df.Survived).plot.bar(ax=ax1)\n",
    "pd.crosstab(comp_df.Pclass, comp_df.Survived).plot.bar(ax=ax2)\n",
    "pd.crosstab(comp_df.Embarked, comp_df.Survived).plot.bar(ax=ax3)\n",
    "plt.show()"
   ]
  },
  {
   "cell_type": "markdown",
   "metadata": {
    "papermill": {
     "duration": 0.051697,
     "end_time": "2020-12-17T05:25:29.509142",
     "exception": false,
     "start_time": "2020-12-17T05:25:29.457445",
     "status": "completed"
    },
    "tags": []
   },
   "source": [
    "- Female survivral rate > male\n",
    "- Pclass 3 survivral rate < other pclass\n",
    "- People embarked at S have lower survival rate than other"
   ]
  },
  {
   "cell_type": "markdown",
   "metadata": {
    "papermill": {
     "duration": 0.05062,
     "end_time": "2020-12-17T05:25:29.611815",
     "exception": false,
     "start_time": "2020-12-17T05:25:29.561195",
     "status": "completed"
    },
    "tags": []
   },
   "source": [
    "#### Correlation"
   ]
  },
  {
   "cell_type": "code",
   "execution_count": 16,
   "metadata": {
    "execution": {
     "iopub.execute_input": "2020-12-17T05:25:29.720328Z",
     "iopub.status.busy": "2020-12-17T05:25:29.719762Z",
     "iopub.status.idle": "2020-12-17T05:25:30.062397Z",
     "shell.execute_reply": "2020-12-17T05:25:30.061602Z"
    },
    "papermill": {
     "duration": 0.39653,
     "end_time": "2020-12-17T05:25:30.062586",
     "exception": false,
     "start_time": "2020-12-17T05:25:29.666056",
     "status": "completed"
    },
    "tags": []
   },
   "outputs": [
    {
     "data": {
      "text/plain": [
       "Text(0.5, 1.0, 'Correlation among numerical columns')"
      ]
     },
     "execution_count": 16,
     "metadata": {},
     "output_type": "execute_result"
    },
    {
     "data": {
      "image/png": "[encoded data removed]",
      "text/plain": [
       "<Figure size 720x432 with 2 Axes>"
      ]
     },
     "metadata": {},
     "output_type": "display_data"
    }
   ],
   "source": [
    "# Correlation graph\n",
    "plt.figure(figsize=(10,6))\n",
    "sns.heatmap(comp_df.corr(),annot=True,cmap='Reds')\n",
    "plt.title('Correlation among numerical columns')"
   ]
  },
  {
   "cell_type": "markdown",
   "metadata": {
    "papermill": {
     "duration": 0.053053,
     "end_time": "2020-12-17T05:25:30.168542",
     "exception": false,
     "start_time": "2020-12-17T05:25:30.115489",
     "status": "completed"
    },
    "tags": []
   },
   "source": [
    "### Age"
   ]
  },
  {
   "cell_type": "code",
   "execution_count": 17,
   "metadata": {
    "execution": {
     "iopub.execute_input": "2020-12-17T05:25:30.287205Z",
     "iopub.status.busy": "2020-12-17T05:25:30.286190Z",
     "iopub.status.idle": "2020-12-17T05:25:30.506855Z",
     "shell.execute_reply": "2020-12-17T05:25:30.506219Z"
    },
    "papermill": {
     "duration": 0.285411,
     "end_time": "2020-12-17T05:25:30.506980",
     "exception": false,
     "start_time": "2020-12-17T05:25:30.221569",
     "status": "completed"
    },
    "tags": []
   },
   "outputs": [
    {
     "data": {
      "text/plain": [
       "<matplotlib.axes._subplots.AxesSubplot at 0x7fa2dc174450>"
      ]
     },
     "execution_count": 17,
     "metadata": {},
     "output_type": "execute_result"
    },
    {
     "data": {
      "image/png": "[encoded data removed]",
      "text/plain": [
       "<Figure size 864x144 with 1 Axes>"
      ]
     },
     "metadata": {},
     "output_type": "display_data"
    }
   ],
   "source": [
    "plt.figure(figsize=(12,2))\n",
    "sns.boxplot(comp_df.Age)"
   ]
  },
  {
   "cell_type": "code",
   "execution_count": 18,
   "metadata": {
    "execution": {
     "iopub.execute_input": "2020-12-17T05:25:30.627387Z",
     "iopub.status.busy": "2020-12-17T05:25:30.626368Z",
     "iopub.status.idle": "2020-12-17T05:25:31.128897Z",
     "shell.execute_reply": "2020-12-17T05:25:31.129424Z"
    },
    "papermill": {
     "duration": 0.568077,
     "end_time": "2020-12-17T05:25:31.129563",
     "exception": false,
     "start_time": "2020-12-17T05:25:30.561486",
     "status": "completed"
    },
    "tags": []
   },
   "outputs": [
    {
     "data": {
      "text/plain": [
       "<matplotlib.axes._subplots.AxesSubplot at 0x7fa2dc0cce10>"
      ]
     },
     "execution_count": 18,
     "metadata": {},
     "output_type": "execute_result"
    },
    {
     "data": {
      "image/png": "[encoded data removed]",
      "text/plain": [
       "<Figure size 936x216 with 3 Axes>"
      ]
     },
     "metadata": {},
     "output_type": "display_data"
    }
   ],
   "source": [
    "fig, (ax1,ax2,ax3) = plt.subplots(1,3,figsize=(13,3))\n",
    "sns.boxplot(x='Survived',y='Age',data=comp_df,ax=ax1, width=0.5)\n",
    "sns.boxplot(x='Sex', y='Age', data=comp_df,ax=ax2, width=0.5)\n",
    "sns.boxplot(x='Pclass', y='Age', data=comp_df,ax=ax3, width=0.5)"
   ]
  },
  {
   "cell_type": "markdown",
   "metadata": {
    "papermill": {
     "duration": 0.062275,
     "end_time": "2020-12-17T05:25:31.248451",
     "exception": false,
     "start_time": "2020-12-17T05:25:31.186176",
     "status": "completed"
    },
    "tags": []
   },
   "source": [
    "Age and Pclass has a more obvious negative correlation, now fill the missing age according to their pclass"
   ]
  },
  {
   "cell_type": "code",
   "execution_count": 19,
   "metadata": {
    "execution": {
     "iopub.execute_input": "2020-12-17T05:25:31.362746Z",
     "iopub.status.busy": "2020-12-17T05:25:31.361932Z",
     "iopub.status.idle": "2020-12-17T05:25:31.416493Z",
     "shell.execute_reply": "2020-12-17T05:25:31.416984Z"
    },
    "papermill": {
     "duration": 0.113381,
     "end_time": "2020-12-17T05:25:31.417123",
     "exception": false,
     "start_time": "2020-12-17T05:25:31.303742",
     "status": "completed"
    },
    "tags": []
   },
   "outputs": [],
   "source": [
    "# Fill the missing value according to their pclass\n",
    "p1 = comp_df[comp_df.Pclass==1]['Age'].median() \n",
    "p2 = comp_df[comp_df.Pclass==2]['Age'].median() \n",
    "p3 = comp_df[comp_df.Pclass==3]['Age'].median() \n",
    "def fill_age(row):\n",
    "    if np.isnan(row.Age):\n",
    "        if row.Pclass == 1:\n",
    "            return p1\n",
    "        elif row.Pclass == 2:\n",
    "            return p2\n",
    "        elif row.Pclass == 3:\n",
    "            return p3\n",
    "    else:\n",
    "        return row.Age\n",
    "comp_df.Age = comp_df.apply(fill_age, axis=1)"
   ]
  },
  {
   "cell_type": "code",
   "execution_count": 20,
   "metadata": {
    "execution": {
     "iopub.execute_input": "2020-12-17T05:25:31.531784Z",
     "iopub.status.busy": "2020-12-17T05:25:31.530900Z",
     "iopub.status.idle": "2020-12-17T05:25:31.536633Z",
     "shell.execute_reply": "2020-12-17T05:25:31.535962Z"
    },
    "papermill": {
     "duration": 0.064692,
     "end_time": "2020-12-17T05:25:31.536734",
     "exception": false,
     "start_time": "2020-12-17T05:25:31.472042",
     "status": "completed"
    },
    "tags": []
   },
   "outputs": [],
   "source": [
    "# Drop the extreme outliers\n",
    "comp_df = comp_df[comp_df.Age<80]"
   ]
  },
  {
   "cell_type": "markdown",
   "metadata": {
    "papermill": {
     "duration": 0.057762,
     "end_time": "2020-12-17T05:25:31.651715",
     "exception": false,
     "start_time": "2020-12-17T05:25:31.593953",
     "status": "completed"
    },
    "tags": []
   },
   "source": [
    "### Fare "
   ]
  },
  {
   "cell_type": "code",
   "execution_count": 21,
   "metadata": {
    "execution": {
     "iopub.execute_input": "2020-12-17T05:25:31.780796Z",
     "iopub.status.busy": "2020-12-17T05:25:31.779938Z",
     "iopub.status.idle": "2020-12-17T05:25:32.251363Z",
     "shell.execute_reply": "2020-12-17T05:25:32.250888Z"
    },
    "papermill": {
     "duration": 0.532714,
     "end_time": "2020-12-17T05:25:32.251464",
     "exception": false,
     "start_time": "2020-12-17T05:25:31.718750",
     "status": "completed"
    },
    "tags": []
   },
   "outputs": [
    {
     "data": {
      "text/plain": [
       "<matplotlib.axes._subplots.AxesSubplot at 0x7fa2dbe78690>"
      ]
     },
     "execution_count": 21,
     "metadata": {},
     "output_type": "execute_result"
    },
    {
     "data": {
      "image/png": "[encoded data removed]",
      "text/plain": [
       "<Figure size 720x432 with 2 Axes>"
      ]
     },
     "metadata": {},
     "output_type": "display_data"
    }
   ],
   "source": [
    "# Distribution of numerical data\n",
    "fig, (ax1,ax2) = plt.subplots(2,1,figsize=(10,6), sharex=True)\n",
    "sns.boxplot('Fare',data=comp_df, width=0.5,ax=ax1)\n",
    "sns.distplot(comp_df.Fare,ax=ax2)"
   ]
  },
  {
   "cell_type": "markdown",
   "metadata": {
    "papermill": {
     "duration": 0.055433,
     "end_time": "2020-12-17T05:25:32.363565",
     "exception": false,
     "start_time": "2020-12-17T05:25:32.308132",
     "status": "completed"
    },
    "tags": []
   },
   "source": [
    "- There are missing data in Fare column, we fill it with median\n"
   ]
  },
  {
   "cell_type": "code",
   "execution_count": 22,
   "metadata": {
    "execution": {
     "iopub.execute_input": "2020-12-17T05:25:32.481724Z",
     "iopub.status.busy": "2020-12-17T05:25:32.481195Z",
     "iopub.status.idle": "2020-12-17T05:25:32.483532Z",
     "shell.execute_reply": "2020-12-17T05:25:32.484012Z"
    },
    "papermill": {
     "duration": 0.064653,
     "end_time": "2020-12-17T05:25:32.484138",
     "exception": false,
     "start_time": "2020-12-17T05:25:32.419485",
     "status": "completed"
    },
    "tags": []
   },
   "outputs": [
    {
     "data": {
      "text/plain": [
       "1"
      ]
     },
     "execution_count": 22,
     "metadata": {},
     "output_type": "execute_result"
    }
   ],
   "source": [
    "comp_df.Fare.isnull().sum()"
   ]
  },
  {
   "cell_type": "code",
   "execution_count": 23,
   "metadata": {
    "execution": {
     "iopub.execute_input": "2020-12-17T05:25:32.601704Z",
     "iopub.status.busy": "2020-12-17T05:25:32.601122Z",
     "iopub.status.idle": "2020-12-17T05:25:32.606048Z",
     "shell.execute_reply": "2020-12-17T05:25:32.606554Z"
    },
    "papermill": {
     "duration": 0.064245,
     "end_time": "2020-12-17T05:25:32.606692",
     "exception": false,
     "start_time": "2020-12-17T05:25:32.542447",
     "status": "completed"
    },
    "tags": []
   },
   "outputs": [],
   "source": [
    "comp_df.Fare.fillna(comp_df.Fare.median(), inplace=True)"
   ]
  },
  {
   "cell_type": "markdown",
   "metadata": {
    "papermill": {
     "duration": 0.057835,
     "end_time": "2020-12-17T05:25:32.722854",
     "exception": false,
     "start_time": "2020-12-17T05:25:32.665019",
     "status": "completed"
    },
    "tags": []
   },
   "source": [
    "- There are many outliers in Fare column ,I am going to filter out it."
   ]
  },
  {
   "cell_type": "code",
   "execution_count": 24,
   "metadata": {
    "execution": {
     "iopub.execute_input": "2020-12-17T05:25:32.845135Z",
     "iopub.status.busy": "2020-12-17T05:25:32.844536Z",
     "iopub.status.idle": "2020-12-17T05:25:32.849268Z",
     "shell.execute_reply": "2020-12-17T05:25:32.848757Z"
    },
    "papermill": {
     "duration": 0.068549,
     "end_time": "2020-12-17T05:25:32.849397",
     "exception": false,
     "start_time": "2020-12-17T05:25:32.780848",
     "status": "completed"
    },
    "tags": []
   },
   "outputs": [],
   "source": [
    "from scipy.stats import iqr\n",
    "\n",
    "upper_limit = comp_df.Fare.quantile(0.75) + (1.5 * iqr(comp_df.Fare))\n",
    "lower_limit = comp_df.Fare.quantile(0.25) - (1.5 * iqr(comp_df.Fare))"
   ]
  },
  {
   "cell_type": "code",
   "execution_count": 25,
   "metadata": {
    "execution": {
     "iopub.execute_input": "2020-12-17T05:25:32.975650Z",
     "iopub.status.busy": "2020-12-17T05:25:32.974733Z",
     "iopub.status.idle": "2020-12-17T05:25:32.978266Z",
     "shell.execute_reply": "2020-12-17T05:25:32.978768Z"
    },
    "papermill": {
     "duration": 0.069867,
     "end_time": "2020-12-17T05:25:32.978895",
     "exception": false,
     "start_time": "2020-12-17T05:25:32.909028",
     "status": "completed"
    },
    "tags": []
   },
   "outputs": [
    {
     "data": {
      "text/plain": [
       "(116, 9)"
      ]
     },
     "execution_count": 25,
     "metadata": {},
     "output_type": "execute_result"
    }
   ],
   "source": [
    "# Number of outliers\n",
    "comp_df[(comp_df.Fare>upper_limit ) & (comp_df.Survived.notnull())].shape"
   ]
  },
  {
   "cell_type": "markdown",
   "metadata": {
    "papermill": {
     "duration": 0.057233,
     "end_time": "2020-12-17T05:25:33.093253",
     "exception": false,
     "start_time": "2020-12-17T05:25:33.036020",
     "status": "completed"
    },
    "tags": []
   },
   "source": [
    "There 116 rows of outliers in training set, I don't want to drop too much row, lets make the threshold higher to 100."
   ]
  },
  {
   "cell_type": "code",
   "execution_count": 26,
   "metadata": {
    "execution": {
     "iopub.execute_input": "2020-12-17T05:25:33.211357Z",
     "iopub.status.busy": "2020-12-17T05:25:33.210394Z",
     "iopub.status.idle": "2020-12-17T05:25:33.217326Z",
     "shell.execute_reply": "2020-12-17T05:25:33.217770Z"
    },
    "papermill": {
     "duration": 0.067524,
     "end_time": "2020-12-17T05:25:33.217891",
     "exception": false,
     "start_time": "2020-12-17T05:25:33.150367",
     "status": "completed"
    },
    "tags": []
   },
   "outputs": [
    {
     "data": {
      "text/plain": [
       "(53, 9)"
      ]
     },
     "execution_count": 26,
     "metadata": {},
     "output_type": "execute_result"
    }
   ],
   "source": [
    "comp_df[(comp_df.Fare>100 ) & (comp_df.Survived.notnull())].shape"
   ]
  },
  {
   "cell_type": "code",
   "execution_count": 27,
   "metadata": {
    "execution": {
     "iopub.execute_input": "2020-12-17T05:25:33.339680Z",
     "iopub.status.busy": "2020-12-17T05:25:33.338697Z",
     "iopub.status.idle": "2020-12-17T05:25:33.344416Z",
     "shell.execute_reply": "2020-12-17T05:25:33.344861Z"
    },
    "papermill": {
     "duration": 0.06796,
     "end_time": "2020-12-17T05:25:33.345001",
     "exception": false,
     "start_time": "2020-12-17T05:25:33.277041",
     "status": "completed"
    },
    "tags": []
   },
   "outputs": [],
   "source": [
    "#Lets drop the outliers\n",
    "train_df = comp_df[comp_df.Survived.notnull()]\n",
    "test_df = comp_df[comp_df.Survived.isnull()]"
   ]
  },
  {
   "cell_type": "code",
   "execution_count": 28,
   "metadata": {
    "execution": {
     "iopub.execute_input": "2020-12-17T05:25:33.467986Z",
     "iopub.status.busy": "2020-12-17T05:25:33.467100Z",
     "iopub.status.idle": "2020-12-17T05:25:33.475285Z",
     "shell.execute_reply": "2020-12-17T05:25:33.475711Z"
    },
    "papermill": {
     "duration": 0.071023,
     "end_time": "2020-12-17T05:25:33.475833",
     "exception": false,
     "start_time": "2020-12-17T05:25:33.404810",
     "status": "completed"
    },
    "tags": []
   },
   "outputs": [],
   "source": [
    "train_df.shape, test_df.shape\n",
    "train_df = train_df[train_df.Fare<=100]\n",
    "comp_df = pd.concat([train_df,test_df])"
   ]
  },
  {
   "cell_type": "code",
   "execution_count": 29,
   "metadata": {
    "execution": {
     "iopub.execute_input": "2020-12-17T05:25:33.594773Z",
     "iopub.status.busy": "2020-12-17T05:25:33.593900Z",
     "iopub.status.idle": "2020-12-17T05:25:33.598642Z",
     "shell.execute_reply": "2020-12-17T05:25:33.599173Z"
    },
    "papermill": {
     "duration": 0.066473,
     "end_time": "2020-12-17T05:25:33.599304",
     "exception": false,
     "start_time": "2020-12-17T05:25:33.532831",
     "status": "completed"
    },
    "tags": []
   },
   "outputs": [
    {
     "data": {
      "text/plain": [
       "(1255, 9)"
      ]
     },
     "execution_count": 29,
     "metadata": {},
     "output_type": "execute_result"
    }
   ],
   "source": [
    "comp_df.shape"
   ]
  },
  {
   "cell_type": "markdown",
   "metadata": {
    "papermill": {
     "duration": 0.058669,
     "end_time": "2020-12-17T05:25:33.717789",
     "exception": false,
     "start_time": "2020-12-17T05:25:33.659120",
     "status": "completed"
    },
    "tags": []
   },
   "source": [
    "### Embarked"
   ]
  },
  {
   "cell_type": "code",
   "execution_count": 30,
   "metadata": {
    "execution": {
     "iopub.execute_input": "2020-12-17T05:25:33.841129Z",
     "iopub.status.busy": "2020-12-17T05:25:33.840094Z",
     "iopub.status.idle": "2020-12-17T05:25:33.964137Z",
     "shell.execute_reply": "2020-12-17T05:25:33.963623Z"
    },
    "papermill": {
     "duration": 0.186476,
     "end_time": "2020-12-17T05:25:33.964237",
     "exception": false,
     "start_time": "2020-12-17T05:25:33.777761",
     "status": "completed"
    },
    "tags": []
   },
   "outputs": [
    {
     "data": {
      "text/plain": [
       "<matplotlib.axes._subplots.AxesSubplot at 0x7fa2dbd3c750>"
      ]
     },
     "execution_count": 30,
     "metadata": {},
     "output_type": "execute_result"
    },
    {
     "data": {
      "image/png": "[encoded data removed]",
      "text/plain": [
       "<Figure size 432x288 with 1 Axes>"
      ]
     },
     "metadata": {},
     "output_type": "display_data"
    }
   ],
   "source": [
    "sns.countplot(comp_df.Embarked)"
   ]
  },
  {
   "cell_type": "code",
   "execution_count": 31,
   "metadata": {
    "execution": {
     "iopub.execute_input": "2020-12-17T05:25:34.091734Z",
     "iopub.status.busy": "2020-12-17T05:25:34.091172Z",
     "iopub.status.idle": "2020-12-17T05:25:34.094069Z",
     "shell.execute_reply": "2020-12-17T05:25:34.094519Z"
    },
    "papermill": {
     "duration": 0.071417,
     "end_time": "2020-12-17T05:25:34.094635",
     "exception": false,
     "start_time": "2020-12-17T05:25:34.023218",
     "status": "completed"
    },
    "tags": []
   },
   "outputs": [
    {
     "data": {
      "text/plain": [
       "2"
      ]
     },
     "execution_count": 31,
     "metadata": {},
     "output_type": "execute_result"
    }
   ],
   "source": [
    "comp_df.Embarked.isnull().sum()"
   ]
  },
  {
   "cell_type": "code",
   "execution_count": 32,
   "metadata": {
    "execution": {
     "iopub.execute_input": "2020-12-17T05:25:34.217128Z",
     "iopub.status.busy": "2020-12-17T05:25:34.216586Z",
     "iopub.status.idle": "2020-12-17T05:25:34.222817Z",
     "shell.execute_reply": "2020-12-17T05:25:34.223214Z"
    },
    "papermill": {
     "duration": 0.0688,
     "end_time": "2020-12-17T05:25:34.223334",
     "exception": false,
     "start_time": "2020-12-17T05:25:34.154534",
     "status": "completed"
    },
    "tags": []
   },
   "outputs": [
    {
     "data": {
      "text/plain": [
       "S    889\n",
       "C    241\n",
       "Q    123\n",
       "Name: Embarked, dtype: int64"
      ]
     },
     "execution_count": 32,
     "metadata": {},
     "output_type": "execute_result"
    }
   ],
   "source": [
    "# Fill the missing value\n",
    "comp_df.Embarked.value_counts()"
   ]
  },
  {
   "cell_type": "code",
   "execution_count": 33,
   "metadata": {
    "execution": {
     "iopub.execute_input": "2020-12-17T05:25:34.348151Z",
     "iopub.status.busy": "2020-12-17T05:25:34.347514Z",
     "iopub.status.idle": "2020-12-17T05:25:34.351465Z",
     "shell.execute_reply": "2020-12-17T05:25:34.351851Z"
    },
    "papermill": {
     "duration": 0.06823,
     "end_time": "2020-12-17T05:25:34.352020",
     "exception": false,
     "start_time": "2020-12-17T05:25:34.283790",
     "status": "completed"
    },
    "tags": []
   },
   "outputs": [],
   "source": [
    "comp_df.Embarked.fillna('S',inplace=True)"
   ]
  },
  {
   "cell_type": "code",
   "execution_count": 34,
   "metadata": {
    "execution": {
     "iopub.execute_input": "2020-12-17T05:25:34.475761Z",
     "iopub.status.busy": "2020-12-17T05:25:34.475152Z",
     "iopub.status.idle": "2020-12-17T05:25:34.482026Z",
     "shell.execute_reply": "2020-12-17T05:25:34.482407Z"
    },
    "papermill": {
     "duration": 0.070439,
     "end_time": "2020-12-17T05:25:34.482528",
     "exception": false,
     "start_time": "2020-12-17T05:25:34.412089",
     "status": "completed"
    },
    "tags": []
   },
   "outputs": [
    {
     "data": {
      "text/plain": [
       "Survived    418\n",
       "Pclass        0\n",
       "Name          0\n",
       "Sex           0\n",
       "Age           0\n",
       "SibSp         0\n",
       "Parch         0\n",
       "Fare          0\n",
       "Embarked      0\n",
       "dtype: int64"
      ]
     },
     "execution_count": 34,
     "metadata": {},
     "output_type": "execute_result"
    }
   ],
   "source": [
    "comp_df.isnull().sum()"
   ]
  },
  {
   "cell_type": "markdown",
   "metadata": {
    "papermill": {
     "duration": 0.059934,
     "end_time": "2020-12-17T05:25:34.602374",
     "exception": false,
     "start_time": "2020-12-17T05:25:34.542440",
     "status": "completed"
    },
    "tags": []
   },
   "source": [
    "#### No more missing values now."
   ]
  },
  {
   "cell_type": "markdown",
   "metadata": {
    "papermill": {
     "duration": 0.060055,
     "end_time": "2020-12-17T05:25:34.723707",
     "exception": false,
     "start_time": "2020-12-17T05:25:34.663652",
     "status": "completed"
    },
    "tags": []
   },
   "source": [
    "### Combine SibSp and Parch into 'family_size' column"
   ]
  },
  {
   "cell_type": "code",
   "execution_count": 35,
   "metadata": {
    "execution": {
     "iopub.execute_input": "2020-12-17T05:25:34.849177Z",
     "iopub.status.busy": "2020-12-17T05:25:34.848572Z",
     "iopub.status.idle": "2020-12-17T05:25:34.853100Z",
     "shell.execute_reply": "2020-12-17T05:25:34.853541Z"
    },
    "papermill": {
     "duration": 0.067463,
     "end_time": "2020-12-17T05:25:34.853655",
     "exception": false,
     "start_time": "2020-12-17T05:25:34.786192",
     "status": "completed"
    },
    "tags": []
   },
   "outputs": [],
   "source": [
    "comp_df['family_size'] = comp_df.SibSp + comp_df.Parch"
   ]
  },
  {
   "cell_type": "code",
   "execution_count": 36,
   "metadata": {
    "execution": {
     "iopub.execute_input": "2020-12-17T05:25:34.981436Z",
     "iopub.status.busy": "2020-12-17T05:25:34.980930Z",
     "iopub.status.idle": "2020-12-17T05:25:35.208006Z",
     "shell.execute_reply": "2020-12-17T05:25:35.207468Z"
    },
    "papermill": {
     "duration": 0.291443,
     "end_time": "2020-12-17T05:25:35.208106",
     "exception": false,
     "start_time": "2020-12-17T05:25:34.916663",
     "status": "completed"
    },
    "tags": []
   },
   "outputs": [
    {
     "data": {
      "text/plain": [
       "Text(0, 0.5, 'Number of passenager')"
      ]
     },
     "execution_count": 36,
     "metadata": {},
     "output_type": "execute_result"
    },
    {
     "data": {
      "image/png": "[encoded data removed]",
      "text/plain": [
       "<Figure size 432x288 with 1 Axes>"
      ]
     },
     "metadata": {},
     "output_type": "display_data"
    }
   ],
   "source": [
    "pd.crosstab(comp_df.family_size, comp_df.Survived).plot.bar(figsize=(6,4))\n",
    "plt.xticks(rotation=None)\n",
    "plt.ylabel('Number of passenager')"
   ]
  },
  {
   "cell_type": "markdown",
   "metadata": {
    "papermill": {
     "duration": 0.062196,
     "end_time": "2020-12-17T05:25:35.332808",
     "exception": false,
     "start_time": "2020-12-17T05:25:35.270612",
     "status": "completed"
    },
    "tags": []
   },
   "source": [
    "The passenager with family size 0 has lower rate of survivral than other group,"
   ]
  },
  {
   "cell_type": "code",
   "execution_count": 37,
   "metadata": {
    "execution": {
     "iopub.execute_input": "2020-12-17T05:25:35.460745Z",
     "iopub.status.busy": "2020-12-17T05:25:35.460157Z",
     "iopub.status.idle": "2020-12-17T05:25:35.465634Z",
     "shell.execute_reply": "2020-12-17T05:25:35.466122Z"
    },
    "papermill": {
     "duration": 0.071046,
     "end_time": "2020-12-17T05:25:35.466314",
     "exception": false,
     "start_time": "2020-12-17T05:25:35.395268",
     "status": "completed"
    },
    "tags": []
   },
   "outputs": [],
   "source": [
    "# now we drop the columns of sibsp and parch\n",
    "comp_df.drop(['SibSp','Parch'], axis=1, inplace=True)"
   ]
  },
  {
   "cell_type": "markdown",
   "metadata": {
    "papermill": {
     "duration": 0.062379,
     "end_time": "2020-12-17T05:25:35.591803",
     "exception": false,
     "start_time": "2020-12-17T05:25:35.529424",
     "status": "completed"
    },
    "tags": []
   },
   "source": [
    "### Name\n",
    "- extracting title from name and create new column for it."
   ]
  },
  {
   "cell_type": "code",
   "execution_count": 38,
   "metadata": {
    "execution": {
     "iopub.execute_input": "2020-12-17T05:25:35.723337Z",
     "iopub.status.busy": "2020-12-17T05:25:35.722739Z",
     "iopub.status.idle": "2020-12-17T05:25:35.735547Z",
     "shell.execute_reply": "2020-12-17T05:25:35.734865Z"
    },
    "papermill": {
     "duration": 0.079455,
     "end_time": "2020-12-17T05:25:35.735655",
     "exception": false,
     "start_time": "2020-12-17T05:25:35.656200",
     "status": "completed"
    },
    "tags": []
   },
   "outputs": [],
   "source": [
    "# Extract title from name\n",
    "comp_df['title'] = comp_df.Name.str.extract(r'([\\w]+[.])')"
   ]
  },
  {
   "cell_type": "code",
   "execution_count": 39,
   "metadata": {
    "execution": {
     "iopub.execute_input": "2020-12-17T05:25:35.870000Z",
     "iopub.status.busy": "2020-12-17T05:25:35.869394Z",
     "iopub.status.idle": "2020-12-17T05:25:35.873177Z",
     "shell.execute_reply": "2020-12-17T05:25:35.872724Z"
    },
    "papermill": {
     "duration": 0.072015,
     "end_time": "2020-12-17T05:25:35.873278",
     "exception": false,
     "start_time": "2020-12-17T05:25:35.801263",
     "status": "completed"
    },
    "tags": []
   },
   "outputs": [
    {
     "data": {
      "text/plain": [
       "0"
      ]
     },
     "execution_count": 39,
     "metadata": {},
     "output_type": "execute_result"
    }
   ],
   "source": [
    "# check any missing value\n",
    "comp_df.title.isnull().sum()"
   ]
  },
  {
   "cell_type": "code",
   "execution_count": 40,
   "metadata": {
    "execution": {
     "iopub.execute_input": "2020-12-17T05:25:36.010754Z",
     "iopub.status.busy": "2020-12-17T05:25:36.010212Z",
     "iopub.status.idle": "2020-12-17T05:25:36.277814Z",
     "shell.execute_reply": "2020-12-17T05:25:36.277372Z"
    },
    "papermill": {
     "duration": 0.337118,
     "end_time": "2020-12-17T05:25:36.277907",
     "exception": false,
     "start_time": "2020-12-17T05:25:35.940789",
     "status": "completed"
    },
    "tags": []
   },
   "outputs": [
    {
     "data": {
      "text/plain": [
       "<matplotlib.axes._subplots.AxesSubplot at 0x7fa2dbbfbe10>"
      ]
     },
     "execution_count": 40,
     "metadata": {},
     "output_type": "execute_result"
    },
    {
     "data": {
      "image/png": "[encoded data removed]",
      "text/plain": [
       "<Figure size 1080x288 with 1 Axes>"
      ]
     },
     "metadata": {},
     "output_type": "display_data"
    }
   ],
   "source": [
    "# plot the title\n",
    "plt.figure(figsize=(15,4))\n",
    "sns.countplot(comp_df.title)"
   ]
  },
  {
   "cell_type": "code",
   "execution_count": 41,
   "metadata": {
    "execution": {
     "iopub.execute_input": "2020-12-17T05:25:36.424212Z",
     "iopub.status.busy": "2020-12-17T05:25:36.419062Z",
     "iopub.status.idle": "2020-12-17T05:25:36.757278Z",
     "shell.execute_reply": "2020-12-17T05:25:36.756779Z"
    },
    "papermill": {
     "duration": 0.414762,
     "end_time": "2020-12-17T05:25:36.757378",
     "exception": false,
     "start_time": "2020-12-17T05:25:36.342616",
     "status": "completed"
    },
    "tags": []
   },
   "outputs": [
    {
     "data": {
      "text/plain": [
       "(array([ 0,  1,  2,  3,  4,  5,  6,  7,  8,  9, 10, 11, 12, 13, 14, 15, 16]),\n",
       " <a list of 17 Text major ticklabel objects>)"
      ]
     },
     "execution_count": 41,
     "metadata": {},
     "output_type": "execute_result"
    },
    {
     "data": {
      "image/png": "[encoded data removed]",
      "text/plain": [
       "<Figure size 1080x288 with 1 Axes>"
      ]
     },
     "metadata": {},
     "output_type": "display_data"
    }
   ],
   "source": [
    "pd.crosstab(comp_df.title, comp_df.Survived).plot.bar(figsize=(15,4))\n",
    "plt.xticks(rotation=None)"
   ]
  },
  {
   "cell_type": "markdown",
   "metadata": {
    "papermill": {
     "duration": 0.065842,
     "end_time": "2020-12-17T05:25:36.890583",
     "exception": false,
     "start_time": "2020-12-17T05:25:36.824741",
     "status": "completed"
    },
    "tags": []
   },
   "source": [
    "Like gender, the survival rate of Mr. is lower than Miss. or Mrs."
   ]
  },
  {
   "cell_type": "markdown",
   "metadata": {
    "papermill": {
     "duration": 0.06877,
     "end_time": "2020-12-17T05:25:37.060533",
     "exception": false,
     "start_time": "2020-12-17T05:25:36.991763",
     "status": "completed"
    },
    "tags": []
   },
   "source": [
    "# Features Engineering"
   ]
  },
  {
   "cell_type": "markdown",
   "metadata": {
    "papermill": {
     "duration": 0.067942,
     "end_time": "2020-12-17T05:25:37.203044",
     "exception": false,
     "start_time": "2020-12-17T05:25:37.135102",
     "status": "completed"
    },
    "tags": []
   },
   "source": [
    "#### Label encoding : Sex, embarked"
   ]
  },
  {
   "cell_type": "code",
   "execution_count": 42,
   "metadata": {
    "execution": {
     "iopub.execute_input": "2020-12-17T05:25:37.348768Z",
     "iopub.status.busy": "2020-12-17T05:25:37.348259Z",
     "iopub.status.idle": "2020-12-17T05:25:37.351635Z",
     "shell.execute_reply": "2020-12-17T05:25:37.351105Z"
    },
    "papermill": {
     "duration": 0.079474,
     "end_time": "2020-12-17T05:25:37.351740",
     "exception": false,
     "start_time": "2020-12-17T05:25:37.272266",
     "status": "completed"
    },
    "tags": []
   },
   "outputs": [],
   "source": [
    "# label encoding\n",
    "# age male to 1, female to 0\n",
    "comp_df.Sex = comp_df.Sex.map({'male':1,'female':0})\n",
    "# Embarked to 0,1,2\n",
    "comp_df.Embarked = comp_df.Embarked.map({'C':0, 'Q':1,'S':2})"
   ]
  },
  {
   "cell_type": "markdown",
   "metadata": {
    "papermill": {
     "duration": 0.065455,
     "end_time": "2020-12-17T05:25:37.482798",
     "exception": false,
     "start_time": "2020-12-17T05:25:37.417343",
     "status": "completed"
    },
    "tags": []
   },
   "source": [
    "#### Family size \n",
    "- family size > 4 --> 4"
   ]
  },
  {
   "cell_type": "code",
   "execution_count": 43,
   "metadata": {
    "execution": {
     "iopub.execute_input": "2020-12-17T05:25:37.631587Z",
     "iopub.status.busy": "2020-12-17T05:25:37.630644Z",
     "iopub.status.idle": "2020-12-17T05:25:37.662323Z",
     "shell.execute_reply": "2020-12-17T05:25:37.662803Z"
    },
    "papermill": {
     "duration": 0.112615,
     "end_time": "2020-12-17T05:25:37.662946",
     "exception": false,
     "start_time": "2020-12-17T05:25:37.550331",
     "status": "completed"
    },
    "tags": []
   },
   "outputs": [],
   "source": [
    "# Group family size > 10 to 4\n",
    "#comp_df.drop('family_size',axis=1,inplace=True)\n",
    "comp_df.family_size= comp_df.apply(lambda x:4 if x.family_size>4 else x.family_size,axis=1)"
   ]
  },
  {
   "cell_type": "code",
   "execution_count": 44,
   "metadata": {
    "execution": {
     "iopub.execute_input": "2020-12-17T05:25:37.801711Z",
     "iopub.status.busy": "2020-12-17T05:25:37.800886Z",
     "iopub.status.idle": "2020-12-17T05:25:37.836234Z",
     "shell.execute_reply": "2020-12-17T05:25:37.836637Z"
    },
    "papermill": {
     "duration": 0.105331,
     "end_time": "2020-12-17T05:25:37.836768",
     "exception": false,
     "start_time": "2020-12-17T05:25:37.731437",
     "status": "completed"
    },
    "tags": []
   },
   "outputs": [],
   "source": [
    "# Formatting the title\n",
    "# To Mr.\n",
    "comp_df['title'] = comp_df['title'].str.replace(r'Sir.', 'Mr.')\n",
    "comp_df['title'] = comp_df['title'].str.replace(r'Rev.','Mr.')\n",
    "\n",
    "# To Ms\n",
    "comp_df['title'] = comp_df['title'].str.replace(r'Lady.','Ms.')\n",
    "comp_df['title'] = comp_df['title'].str.replace(r'Mrs.','Ms.')\n",
    "comp_df['title'] = comp_df['title'].str.replace(r'Miss.','Ms.')\n",
    "\n",
    "# to other\n",
    "comp_df['title'] = comp_df['title'].str.replace(r'Mlle.','other')\n",
    "comp_df['title'] = comp_df['title'].str.replace(r'Mme.','other')\n",
    "comp_df['title'] = comp_df['title'].str.replace(r'Dona.','other')\n",
    "comp_df['title'] = comp_df['title'].str.replace(r'Countess.','other')\n",
    "comp_df['title'] = comp_df['title'].str.replace(r'Major.','other')\n",
    "comp_df['title'] = comp_df['title'].str.replace(r'Jonkheer.','other')\n",
    "comp_df['title'] = comp_df['title'].str.replace(r'Col.','other')\n",
    "comp_df['title'] = comp_df['title'].str.replace(r'Capt.','other')\n",
    "\n",
    "# to scholar\n",
    "comp_df['title'] = comp_df['title'].str.replace(r'Master.','scholar')\n",
    "comp_df['title'] = comp_df['title'].str.replace(r'Dr.','scholar')\n",
    "comp_df['title'] = comp_df['title'].str.replace('Don.','scholar')"
   ]
  },
  {
   "cell_type": "code",
   "execution_count": 45,
   "metadata": {
    "execution": {
     "iopub.execute_input": "2020-12-17T05:25:37.979766Z",
     "iopub.status.busy": "2020-12-17T05:25:37.978775Z",
     "iopub.status.idle": "2020-12-17T05:25:37.985096Z",
     "shell.execute_reply": "2020-12-17T05:25:37.984578Z"
    },
    "papermill": {
     "duration": 0.082184,
     "end_time": "2020-12-17T05:25:37.985210",
     "exception": false,
     "start_time": "2020-12-17T05:25:37.903026",
     "status": "completed"
    },
    "tags": []
   },
   "outputs": [],
   "source": [
    "comp_df.drop('Name',axis=1, inplace=True)"
   ]
  },
  {
   "cell_type": "code",
   "execution_count": 46,
   "metadata": {
    "execution": {
     "iopub.execute_input": "2020-12-17T05:25:38.143570Z",
     "iopub.status.busy": "2020-12-17T05:25:38.142604Z",
     "iopub.status.idle": "2020-12-17T05:25:38.145439Z",
     "shell.execute_reply": "2020-12-17T05:25:38.145969Z"
    },
    "papermill": {
     "duration": 0.086905,
     "end_time": "2020-12-17T05:25:38.146124",
     "exception": false,
     "start_time": "2020-12-17T05:25:38.059219",
     "status": "completed"
    },
    "tags": []
   },
   "outputs": [],
   "source": [
    "# label encoding the title\n",
    "comp_df.title = comp_df.title.map({'other':0, 'scholar':1, 'Ms.':2, 'Mr.':3})"
   ]
  },
  {
   "cell_type": "markdown",
   "metadata": {
    "papermill": {
     "duration": 0.066025,
     "end_time": "2020-12-17T05:25:38.280230",
     "exception": false,
     "start_time": "2020-12-17T05:25:38.214205",
     "status": "completed"
    },
    "tags": []
   },
   "source": [
    "### Binning the age and fare"
   ]
  },
  {
   "cell_type": "code",
   "execution_count": 47,
   "metadata": {
    "execution": {
     "iopub.execute_input": "2020-12-17T05:25:38.424642Z",
     "iopub.status.busy": "2020-12-17T05:25:38.418133Z",
     "iopub.status.idle": "2020-12-17T05:25:38.976954Z",
     "shell.execute_reply": "2020-12-17T05:25:38.977479Z"
    },
    "papermill": {
     "duration": 0.632404,
     "end_time": "2020-12-17T05:25:38.977618",
     "exception": false,
     "start_time": "2020-12-17T05:25:38.345214",
     "status": "completed"
    },
    "tags": []
   },
   "outputs": [
    {
     "data": {
      "text/plain": [
       "<matplotlib.legend.Legend at 0x7fa2dbbee1d0>"
      ]
     },
     "execution_count": 47,
     "metadata": {},
     "output_type": "execute_result"
    },
    {
     "data": {
      "image/png": "[encoded data removed]",
      "text/plain": [
       "<Figure size 504x504 with 2 Axes>"
      ]
     },
     "metadata": {},
     "output_type": "display_data"
    }
   ],
   "source": [
    "bins = 7\n",
    "fig, (ax1,ax2) = plt.subplots(2,1,figsize=(7,7))\n",
    "sns.distplot(comp_df[comp_df.Survived==1].Age, bins=bins, label='Survived',ax=ax1)\n",
    "sns.distplot(comp_df[comp_df.Survived==0].Age,bins=bins,label='Not Survived',ax=ax1)\n",
    "ax1.legend()\n",
    "\n",
    "sns.distplot(comp_df[comp_df.Survived==1].Fare, bins=bins, label='Survived',ax=ax2)\n",
    "sns.distplot(comp_df[comp_df.Survived==0].Fare,bins=bins,label='Not Survived',ax=ax2)\n",
    "ax2.legend()"
   ]
  },
  {
   "cell_type": "code",
   "execution_count": 48,
   "metadata": {
    "execution": {
     "iopub.execute_input": "2020-12-17T05:25:39.118511Z",
     "iopub.status.busy": "2020-12-17T05:25:39.117698Z",
     "iopub.status.idle": "2020-12-17T05:25:39.129521Z",
     "shell.execute_reply": "2020-12-17T05:25:39.130026Z"
    },
    "papermill": {
     "duration": 0.084111,
     "end_time": "2020-12-17T05:25:39.130188",
     "exception": false,
     "start_time": "2020-12-17T05:25:39.046077",
     "status": "completed"
    },
    "tags": []
   },
   "outputs": [],
   "source": [
    "# Binnings the Age and Fare\n",
    "comp_df.Age = pd.cut(comp_df.Age, 7, labels=[0,1,2,3,4,5,6])\n",
    "comp_df.Fare = pd.cut(comp_df.Fare, 7, labels=[0,1,2,3,4,5,6])\n",
    "comp_df.Age = comp_df.Age.astype('int')\n",
    "comp_df.Fare = comp_df.Fare.astype('int')"
   ]
  },
  {
   "cell_type": "code",
   "execution_count": 49,
   "metadata": {
    "execution": {
     "iopub.execute_input": "2020-12-17T05:25:39.277597Z",
     "iopub.status.busy": "2020-12-17T05:25:39.276802Z",
     "iopub.status.idle": "2020-12-17T05:25:39.280801Z",
     "shell.execute_reply": "2020-12-17T05:25:39.280350Z"
    },
    "papermill": {
     "duration": 0.082037,
     "end_time": "2020-12-17T05:25:39.280908",
     "exception": false,
     "start_time": "2020-12-17T05:25:39.198871",
     "status": "completed"
    },
    "tags": []
   },
   "outputs": [
    {
     "data": {
      "text/plain": [
       "Survived       float64\n",
       "Pclass           int64\n",
       "Sex              int64\n",
       "Age              int64\n",
       "Fare             int64\n",
       "Embarked         int64\n",
       "family_size      int64\n",
       "title            int64\n",
       "dtype: object"
      ]
     },
     "execution_count": 49,
     "metadata": {},
     "output_type": "execute_result"
    }
   ],
   "source": [
    "# final check for datatype\n",
    "comp_df.dtypes"
   ]
  },
  {
   "cell_type": "code",
   "execution_count": 50,
   "metadata": {
    "execution": {
     "iopub.execute_input": "2020-12-17T05:25:39.437105Z",
     "iopub.status.busy": "2020-12-17T05:25:39.436268Z",
     "iopub.status.idle": "2020-12-17T05:25:39.439183Z",
     "shell.execute_reply": "2020-12-17T05:25:39.439663Z"
    },
    "papermill": {
     "duration": 0.089307,
     "end_time": "2020-12-17T05:25:39.439793",
     "exception": false,
     "start_time": "2020-12-17T05:25:39.350486",
     "status": "completed"
    },
    "tags": []
   },
   "outputs": [
    {
     "data": {
      "text/html": [
       "<div>\n",
       "<style scoped>\n",
       "    .dataframe tbody tr th:only-of-type {\n",
       "        vertical-align: middle;\n",
       "    }\n",
       "\n",
       "    .dataframe tbody tr th {\n",
       "        vertical-align: top;\n",
       "    }\n",
       "\n",
       "    .dataframe thead th {\n",
       "        text-align: right;\n",
       "    }\n",
       "</style>\n",
       "<table border=\"1\" class=\"dataframe\">\n",
       "  <thead>\n",
       "    <tr style=\"text-align: right;\">\n",
       "      <th></th>\n",
       "      <th>Survived</th>\n",
       "      <th>Pclass</th>\n",
       "      <th>Sex</th>\n",
       "      <th>Age</th>\n",
       "      <th>Fare</th>\n",
       "      <th>Embarked</th>\n",
       "      <th>family_size</th>\n",
       "      <th>title</th>\n",
       "    </tr>\n",
       "  </thead>\n",
       "  <tbody>\n",
       "    <tr>\n",
       "      <th>0</th>\n",
       "      <td>0.0</td>\n",
       "      <td>3</td>\n",
       "      <td>1</td>\n",
       "      <td>2</td>\n",
       "      <td>0</td>\n",
       "      <td>2</td>\n",
       "      <td>1</td>\n",
       "      <td>3</td>\n",
       "    </tr>\n",
       "    <tr>\n",
       "      <th>1</th>\n",
       "      <td>1.0</td>\n",
       "      <td>1</td>\n",
       "      <td>0</td>\n",
       "      <td>3</td>\n",
       "      <td>0</td>\n",
       "      <td>0</td>\n",
       "      <td>1</td>\n",
       "      <td>2</td>\n",
       "    </tr>\n",
       "    <tr>\n",
       "      <th>2</th>\n",
       "      <td>1.0</td>\n",
       "      <td>3</td>\n",
       "      <td>0</td>\n",
       "      <td>2</td>\n",
       "      <td>0</td>\n",
       "      <td>2</td>\n",
       "      <td>0</td>\n",
       "      <td>2</td>\n",
       "    </tr>\n",
       "    <tr>\n",
       "      <th>3</th>\n",
       "      <td>1.0</td>\n",
       "      <td>1</td>\n",
       "      <td>0</td>\n",
       "      <td>3</td>\n",
       "      <td>0</td>\n",
       "      <td>2</td>\n",
       "      <td>1</td>\n",
       "      <td>2</td>\n",
       "    </tr>\n",
       "    <tr>\n",
       "      <th>4</th>\n",
       "      <td>0.0</td>\n",
       "      <td>3</td>\n",
       "      <td>1</td>\n",
       "      <td>3</td>\n",
       "      <td>0</td>\n",
       "      <td>2</td>\n",
       "      <td>0</td>\n",
       "      <td>3</td>\n",
       "    </tr>\n",
       "    <tr>\n",
       "      <th>...</th>\n",
       "      <td>...</td>\n",
       "      <td>...</td>\n",
       "      <td>...</td>\n",
       "      <td>...</td>\n",
       "      <td>...</td>\n",
       "      <td>...</td>\n",
       "      <td>...</td>\n",
       "      <td>...</td>\n",
       "    </tr>\n",
       "    <tr>\n",
       "      <th>1304</th>\n",
       "      <td>NaN</td>\n",
       "      <td>3</td>\n",
       "      <td>1</td>\n",
       "      <td>2</td>\n",
       "      <td>0</td>\n",
       "      <td>2</td>\n",
       "      <td>0</td>\n",
       "      <td>3</td>\n",
       "    </tr>\n",
       "    <tr>\n",
       "      <th>1305</th>\n",
       "      <td>NaN</td>\n",
       "      <td>1</td>\n",
       "      <td>0</td>\n",
       "      <td>3</td>\n",
       "      <td>1</td>\n",
       "      <td>0</td>\n",
       "      <td>0</td>\n",
       "      <td>0</td>\n",
       "    </tr>\n",
       "    <tr>\n",
       "      <th>1306</th>\n",
       "      <td>NaN</td>\n",
       "      <td>3</td>\n",
       "      <td>1</td>\n",
       "      <td>3</td>\n",
       "      <td>0</td>\n",
       "      <td>2</td>\n",
       "      <td>0</td>\n",
       "      <td>3</td>\n",
       "    </tr>\n",
       "    <tr>\n",
       "      <th>1307</th>\n",
       "      <td>NaN</td>\n",
       "      <td>3</td>\n",
       "      <td>1</td>\n",
       "      <td>2</td>\n",
       "      <td>0</td>\n",
       "      <td>2</td>\n",
       "      <td>0</td>\n",
       "      <td>3</td>\n",
       "    </tr>\n",
       "    <tr>\n",
       "      <th>1308</th>\n",
       "      <td>NaN</td>\n",
       "      <td>3</td>\n",
       "      <td>1</td>\n",
       "      <td>2</td>\n",
       "      <td>0</td>\n",
       "      <td>0</td>\n",
       "      <td>2</td>\n",
       "      <td>1</td>\n",
       "    </tr>\n",
       "  </tbody>\n",
       "</table>\n",
       "<p>1255 rows × 8 columns</p>\n",
       "</div>"
      ],
      "text/plain": [
       "      Survived  Pclass  Sex  Age  Fare  Embarked  family_size  title\n",
       "0          0.0       3    1    2     0         2            1      3\n",
       "1          1.0       1    0    3     0         0            1      2\n",
       "2          1.0       3    0    2     0         2            0      2\n",
       "3          1.0       1    0    3     0         2            1      2\n",
       "4          0.0       3    1    3     0         2            0      3\n",
       "...        ...     ...  ...  ...   ...       ...          ...    ...\n",
       "1304       NaN       3    1    2     0         2            0      3\n",
       "1305       NaN       1    0    3     1         0            0      0\n",
       "1306       NaN       3    1    3     0         2            0      3\n",
       "1307       NaN       3    1    2     0         2            0      3\n",
       "1308       NaN       3    1    2     0         0            2      1\n",
       "\n",
       "[1255 rows x 8 columns]"
      ]
     },
     "execution_count": 50,
     "metadata": {},
     "output_type": "execute_result"
    }
   ],
   "source": [
    "comp_df"
   ]
  },
  {
   "cell_type": "markdown",
   "metadata": {
    "papermill": {
     "duration": 0.070741,
     "end_time": "2020-12-17T05:25:39.584804",
     "exception": false,
     "start_time": "2020-12-17T05:25:39.514063",
     "status": "completed"
    },
    "tags": []
   },
   "source": [
    "## Split back to train and test set"
   ]
  },
  {
   "cell_type": "code",
   "execution_count": 51,
   "metadata": {
    "execution": {
     "iopub.execute_input": "2020-12-17T05:25:39.738584Z",
     "iopub.status.busy": "2020-12-17T05:25:39.737939Z",
     "iopub.status.idle": "2020-12-17T05:25:39.743439Z",
     "shell.execute_reply": "2020-12-17T05:25:39.743880Z"
    },
    "papermill": {
     "duration": 0.08423,
     "end_time": "2020-12-17T05:25:39.744038",
     "exception": false,
     "start_time": "2020-12-17T05:25:39.659808",
     "status": "completed"
    },
    "tags": []
   },
   "outputs": [],
   "source": [
    "train_df = comp_df[comp_df.Survived.notnull()]\n",
    "test_df = comp_df[comp_df.Survived.isnull()]"
   ]
  },
  {
   "cell_type": "code",
   "execution_count": 52,
   "metadata": {
    "execution": {
     "iopub.execute_input": "2020-12-17T05:25:39.892913Z",
     "iopub.status.busy": "2020-12-17T05:25:39.892338Z",
     "iopub.status.idle": "2020-12-17T05:25:39.904431Z",
     "shell.execute_reply": "2020-12-17T05:25:39.903945Z"
    },
    "papermill": {
     "duration": 0.086669,
     "end_time": "2020-12-17T05:25:39.904532",
     "exception": false,
     "start_time": "2020-12-17T05:25:39.817863",
     "status": "completed"
    },
    "tags": []
   },
   "outputs": [
    {
     "name": "stderr",
     "output_type": "stream",
     "text": [
      "/opt/conda/lib/python3.7/site-packages/pandas/core/frame.py:4174: SettingWithCopyWarning: \n",
      "A value is trying to be set on a copy of a slice from a DataFrame\n",
      "\n",
      "See the caveats in the documentation: https://pandas.pydata.org/pandas-docs/stable/user_guide/indexing.html#returning-a-view-versus-a-copy\n",
      "  errors=errors,\n"
     ]
    }
   ],
   "source": [
    "test_df.drop('Survived',axis=1, inplace=True)"
   ]
  },
  {
   "cell_type": "markdown",
   "metadata": {
    "papermill": {
     "duration": 0.068512,
     "end_time": "2020-12-17T05:25:40.047809",
     "exception": false,
     "start_time": "2020-12-17T05:25:39.979297",
     "status": "completed"
    },
    "tags": []
   },
   "source": [
    "## Split train set to x and y"
   ]
  },
  {
   "cell_type": "code",
   "execution_count": 53,
   "metadata": {
    "execution": {
     "iopub.execute_input": "2020-12-17T05:25:40.196431Z",
     "iopub.status.busy": "2020-12-17T05:25:40.195555Z",
     "iopub.status.idle": "2020-12-17T05:25:40.197941Z",
     "shell.execute_reply": "2020-12-17T05:25:40.198335Z"
    },
    "papermill": {
     "duration": 0.07903,
     "end_time": "2020-12-17T05:25:40.198475",
     "exception": false,
     "start_time": "2020-12-17T05:25:40.119445",
     "status": "completed"
    },
    "tags": []
   },
   "outputs": [],
   "source": [
    "x_train = train_df.drop('Survived',axis=1)\n",
    "y_train = train_df.Survived"
   ]
  },
  {
   "cell_type": "markdown",
   "metadata": {
    "papermill": {
     "duration": 0.068659,
     "end_time": "2020-12-17T05:25:40.339340",
     "exception": false,
     "start_time": "2020-12-17T05:25:40.270681",
     "status": "completed"
    },
    "tags": []
   },
   "source": [
    "## Start training model"
   ]
  },
  {
   "cell_type": "code",
   "execution_count": 54,
   "metadata": {
    "execution": {
     "iopub.execute_input": "2020-12-17T05:25:40.485835Z",
     "iopub.status.busy": "2020-12-17T05:25:40.485275Z",
     "iopub.status.idle": "2020-12-17T05:25:41.376852Z",
     "shell.execute_reply": "2020-12-17T05:25:41.376243Z"
    },
    "papermill": {
     "duration": 0.968812,
     "end_time": "2020-12-17T05:25:41.376967",
     "exception": false,
     "start_time": "2020-12-17T05:25:40.408155",
     "status": "completed"
    },
    "tags": []
   },
   "outputs": [],
   "source": [
    "from sklearn.model_selection import GridSearchCV, cross_val_score, RepeatedStratifiedKFold, train_test_split\n",
    "from xgboost import XGBClassifier\n",
    "from sklearn.metrics import classification_report"
   ]
  },
  {
   "cell_type": "code",
   "execution_count": 55,
   "metadata": {
    "execution": {
     "iopub.execute_input": "2020-12-17T05:25:41.532266Z",
     "iopub.status.busy": "2020-12-17T05:25:41.531539Z",
     "iopub.status.idle": "2020-12-17T05:25:45.497063Z",
     "shell.execute_reply": "2020-12-17T05:25:45.496165Z"
    },
    "papermill": {
     "duration": 4.050354,
     "end_time": "2020-12-17T05:25:45.497201",
     "exception": false,
     "start_time": "2020-12-17T05:25:41.446847",
     "status": "completed"
    },
    "tags": []
   },
   "outputs": [
    {
     "name": "stderr",
     "output_type": "stream",
     "text": [
      "[Parallel(n_jobs=-1)]: Using backend LokyBackend with 4 concurrent workers.\n"
     ]
    },
    {
     "name": "stdout",
     "output_type": "stream",
     "text": [
      "0.8353069024593676 0.05019771623797875\n"
     ]
    },
    {
     "name": "stderr",
     "output_type": "stream",
     "text": [
      "[Parallel(n_jobs=-1)]: Done  50 out of  50 | elapsed:    3.9s finished\n"
     ]
    }
   ],
   "source": [
    "# Fit to the model without any tuning\n",
    "model = XGBClassifier()\n",
    "cv = RepeatedStratifiedKFold(n_splits=10, n_repeats=5, random_state=11)\n",
    "scores = cross_val_score(model, x_train, y_train, cv=cv, n_jobs=-1, verbose=True, scoring='roc_auc')\n",
    "print(np.mean(scores),np.std(scores))"
   ]
  },
  {
   "cell_type": "markdown",
   "metadata": {
    "papermill": {
     "duration": 0.07208,
     "end_time": "2020-12-17T05:25:45.640909",
     "exception": false,
     "start_time": "2020-12-17T05:25:45.568829",
     "status": "completed"
    },
    "tags": []
   },
   "source": [
    "### Grid search the hyperparameters"
   ]
  },
  {
   "cell_type": "code",
   "execution_count": 56,
   "metadata": {
    "_kg_hide-input": false,
    "_kg_hide-output": false,
    "execution": {
     "iopub.execute_input": "2020-12-17T05:25:45.793237Z",
     "iopub.status.busy": "2020-12-17T05:25:45.792666Z",
     "iopub.status.idle": "2020-12-17T05:25:45.795309Z",
     "shell.execute_reply": "2020-12-17T05:25:45.795728Z"
    },
    "papermill": {
     "duration": 0.080118,
     "end_time": "2020-12-17T05:25:45.795857",
     "exception": false,
     "start_time": "2020-12-17T05:25:45.715739",
     "status": "completed"
    },
    "tags": []
   },
   "outputs": [],
   "source": [
    "#model = XGBClassifier(random_state=11)\n",
    "#cv = RepeatedStratifiedKFold(n_splits=10, n_repeats=3, random_state=11)\n",
    "#params = {\n",
    "    #'n_estimators':[50,100,200,500],\n",
    "    #'max_depth':[3,6,9],\n",
    "    #'subsample':[0.3,0.5,0.7,1],\n",
    "    #'learning_rate':[0.0001,0.001,0.01,0.1,1],\n",
    "    #'colsample_bytree':[0.3,0.5,0.7,1]\n",
    "#}\n",
    "#model_grid = GridSearchCV(model, params, cv=cv,n_jobs=-1, verbose=1, scoring='roc_auc')\n",
    "#model_grid.fit(x_train, y_train)\n",
    "#print('Best mark:',model_grid.best_score_, '\\nBest params:',model_grid.best_params_)"
   ]
  },
  {
   "cell_type": "markdown",
   "metadata": {
    "papermill": {
     "duration": 0.074328,
     "end_time": "2020-12-17T05:25:45.943537",
     "exception": false,
     "start_time": "2020-12-17T05:25:45.869209",
     "status": "completed"
    },
    "tags": []
   },
   "source": [
    "# Predict the answer"
   ]
  },
  {
   "cell_type": "code",
   "execution_count": 57,
   "metadata": {
    "_kg_hide-input": true,
    "_kg_hide-output": false,
    "execution": {
     "iopub.execute_input": "2020-12-17T05:25:46.105368Z",
     "iopub.status.busy": "2020-12-17T05:25:46.104798Z",
     "iopub.status.idle": "2020-12-17T05:25:46.107705Z",
     "shell.execute_reply": "2020-12-17T05:25:46.107204Z"
    },
    "papermill": {
     "duration": 0.079294,
     "end_time": "2020-12-17T05:25:46.107795",
     "exception": false,
     "start_time": "2020-12-17T05:25:46.028501",
     "status": "completed"
    },
    "tags": []
   },
   "outputs": [],
   "source": [
    "### Plot the learning curve of the model with best params\n",
    "best_model = XGBClassifier(n_estimators=100, \n",
    "                           subsample=0.7, \n",
    "                           max_depth=3, \n",
    "                           learning_rate=0.01, \n",
    "                           colsample_bytree=1)"
   ]
  },
  {
   "cell_type": "markdown",
   "metadata": {
    "papermill": {
     "duration": 0.071186,
     "end_time": "2020-12-17T05:25:46.250016",
     "exception": false,
     "start_time": "2020-12-17T05:25:46.178830",
     "status": "completed"
    },
    "tags": []
   },
   "source": [
    "# Save the output"
   ]
  },
  {
   "cell_type": "code",
   "execution_count": 58,
   "metadata": {
    "execution": {
     "iopub.execute_input": "2020-12-17T05:25:46.391929Z",
     "iopub.status.busy": "2020-12-17T05:25:46.391407Z",
     "iopub.status.idle": "2020-12-17T05:25:46.735084Z",
     "shell.execute_reply": "2020-12-17T05:25:46.735626Z"
    },
    "papermill": {
     "duration": 0.416703,
     "end_time": "2020-12-17T05:25:46.735758",
     "exception": false,
     "start_time": "2020-12-17T05:25:46.319055",
     "status": "completed"
    },
    "tags": []
   },
   "outputs": [],
   "source": [
    "best_model.fit(x_train,y_train)\n",
    "answer = pd.DataFrame(best_model.predict(test_df))\n",
    "test_file  = pd.read_csv('../input/titanic/test.csv')\n",
    "answer['PassengerId']= test_file.PassengerId.tolist()\n",
    "answer.set_index('PassengerId',inplace=True)\n",
    "answer.columns=['Survived']\n",
    "answer.Survived = answer.Survived.astype('int')\n",
    "answer.to_csv('answer_xgb_binning_new02_bin7_familysize02.csv')"
   ]
  }
 ],
 "metadata": {
  "kernelspec": {
   "display_name": "Python 3",
   "language": "python",
   "name": "python3"
  },
  "language_info": {
   "codemirror_mode": {
    "name": "ipython",
    "version": 3
   },
   "file_extension": ".py",
   "mimetype": "text/x-python",
   "name": "python",
   "nbconvert_exporter": "python",
   "pygments_lexer": "ipython3",
   "version": "3.7.6"
  },
  "papermill": {
   "duration": 25.663094,
   "end_time": "2020-12-17T05:25:46.925377",
   "environment_variables": {},
   "exception": null,
   "input_path": "__notebook__.ipynb",
   "output_path": "__notebook__.ipynb",
   "parameters": {},
   "start_time": "2020-12-17T05:25:21.262283",
   "version": "2.1.0"
  }
 },
 "nbformat": 4,
 "nbformat_minor": 4
}
