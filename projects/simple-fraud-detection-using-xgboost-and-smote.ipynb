{
 "cells": [
  {
   "cell_type": "markdown",
   "metadata": {
    "papermill": {
     "duration": 0.031735,
     "end_time": "2020-12-17T09:53:31.035280",
     "exception": false,
     "start_time": "2020-12-17T09:53:31.003545",
     "status": "completed"
    },
    "tags": []
   },
   "source": [
    "# Credit Card Fraud Detection\n",
    "### Anonymized credit card transactions labeled as fraudulent or genuine\n",
    "\n",
    "#### Context\n",
    "- It is important that credit card companies are able to recognize fraudulent credit card transactions so that customers are not charged for items that they did not purchase.\n",
    "\n",
    "#### Content\n",
    "- The datasets contains transactions made by credit cards in September 2013 by european cardholders.\n",
    "\n",
    "- This dataset presents transactions that occurred in two days, where we have 492 frauds out of 284,807 transactions. The dataset is highly unbalanced, the positive class (frauds) account for 0.172% of all transactions.\n",
    "\n",
    "- It contains only numerical input variables which are the result of a PCA transformation. Unfortunately, due to confidentiality issues, we cannot provide the original features and more background information about the data. Features V1, V2, … V28 are the principal components obtained with PCA, the only features which have not been transformed with PCA are 'Time' and 'Amount'. Feature 'Time' contains the seconds elapsed between each transaction and the first transaction in the dataset. The feature 'Amount' is the transaction Amount, this feature can be used for example-dependant cost-senstive learning. Feature 'Class' is the response variable and it takes value 1 in case of fraud and 0 otherwise.\n",
    "\n",
    "#### Inspiration\n",
    "- Identify fraudulent credit card transactions.\n",
    "\n",
    "- It is recommended measuring the accuracy using the Area Under the Precision-Recall Curve (AUPRC). Confusion matrix accuracy is not meaningful for unbalanced classification."
   ]
  },
  {
   "cell_type": "code",
   "execution_count": 1,
   "metadata": {
    "execution": {
     "iopub.execute_input": "2020-12-17T09:53:31.104101Z",
     "iopub.status.busy": "2020-12-17T09:53:31.103318Z",
     "iopub.status.idle": "2020-12-17T09:53:32.119467Z",
     "shell.execute_reply": "2020-12-17T09:53:32.118719Z"
    },
    "papermill": {
     "duration": 1.054191,
     "end_time": "2020-12-17T09:53:32.119592",
     "exception": false,
     "start_time": "2020-12-17T09:53:31.065401",
     "status": "completed"
    },
    "tags": []
   },
   "outputs": [],
   "source": [
    "# import the tools we need\n",
    "import pandas as pd\n",
    "import numpy as np\n",
    "import matplotlib.pyplot as plt\n",
    "%matplotlib inline\n",
    "import seaborn as sns"
   ]
  },
  {
   "cell_type": "markdown",
   "metadata": {
    "papermill": {
     "duration": 0.029571,
     "end_time": "2020-12-17T09:53:32.180114",
     "exception": false,
     "start_time": "2020-12-17T09:53:32.150543",
     "status": "completed"
    },
    "tags": []
   },
   "source": [
    "Read the data"
   ]
  },
  {
   "cell_type": "code",
   "execution_count": 2,
   "metadata": {
    "execution": {
     "iopub.execute_input": "2020-12-17T09:53:32.251662Z",
     "iopub.status.busy": "2020-12-17T09:53:32.250944Z",
     "iopub.status.idle": "2020-12-17T09:53:36.567643Z",
     "shell.execute_reply": "2020-12-17T09:53:36.566822Z"
    },
    "papermill": {
     "duration": 4.356481,
     "end_time": "2020-12-17T09:53:36.567775",
     "exception": false,
     "start_time": "2020-12-17T09:53:32.211294",
     "status": "completed"
    },
    "tags": []
   },
   "outputs": [],
   "source": [
    "comp_df = pd.read_csv('../input/creditcardfraud/creditcard.csv')"
   ]
  },
  {
   "cell_type": "markdown",
   "metadata": {
    "papermill": {
     "duration": 0.029056,
     "end_time": "2020-12-17T09:53:36.626788",
     "exception": false,
     "start_time": "2020-12-17T09:53:36.597732",
     "status": "completed"
    },
    "tags": []
   },
   "source": [
    "# Basic data analysis"
   ]
  },
  {
   "cell_type": "code",
   "execution_count": 3,
   "metadata": {
    "execution": {
     "iopub.execute_input": "2020-12-17T09:53:36.693180Z",
     "iopub.status.busy": "2020-12-17T09:53:36.692189Z",
     "iopub.status.idle": "2020-12-17T09:53:36.696184Z",
     "shell.execute_reply": "2020-12-17T09:53:36.696710Z"
    },
    "papermill": {
     "duration": 0.040388,
     "end_time": "2020-12-17T09:53:36.696850",
     "exception": false,
     "start_time": "2020-12-17T09:53:36.656462",
     "status": "completed"
    },
    "tags": []
   },
   "outputs": [
    {
     "data": {
      "text/plain": [
       "(284807, 31)"
      ]
     },
     "execution_count": 3,
     "metadata": {},
     "output_type": "execute_result"
    }
   ],
   "source": [
    "comp_df.shape"
   ]
  },
  {
   "cell_type": "code",
   "execution_count": 4,
   "metadata": {
    "execution": {
     "iopub.execute_input": "2020-12-17T09:53:36.781640Z",
     "iopub.status.busy": "2020-12-17T09:53:36.780753Z",
     "iopub.status.idle": "2020-12-17T09:53:36.795816Z",
     "shell.execute_reply": "2020-12-17T09:53:36.795249Z"
    },
    "papermill": {
     "duration": 0.068706,
     "end_time": "2020-12-17T09:53:36.795928",
     "exception": false,
     "start_time": "2020-12-17T09:53:36.727222",
     "status": "completed"
    },
    "tags": []
   },
   "outputs": [
    {
     "data": {
      "text/html": [
       "<div>\n",
       "<style scoped>\n",
       "    .dataframe tbody tr th:only-of-type {\n",
       "        vertical-align: middle;\n",
       "    }\n",
       "\n",
       "    .dataframe tbody tr th {\n",
       "        vertical-align: top;\n",
       "    }\n",
       "\n",
       "    .dataframe thead th {\n",
       "        text-align: right;\n",
       "    }\n",
       "</style>\n",
       "<table border=\"1\" class=\"dataframe\">\n",
       "  <thead>\n",
       "    <tr style=\"text-align: right;\">\n",
       "      <th></th>\n",
       "      <th>Time</th>\n",
       "      <th>V1</th>\n",
       "      <th>V2</th>\n",
       "      <th>V3</th>\n",
       "      <th>V4</th>\n",
       "      <th>V5</th>\n",
       "      <th>V6</th>\n",
       "      <th>V7</th>\n",
       "      <th>V8</th>\n",
       "      <th>V9</th>\n",
       "      <th>...</th>\n",
       "      <th>V21</th>\n",
       "      <th>V22</th>\n",
       "      <th>V23</th>\n",
       "      <th>V24</th>\n",
       "      <th>V25</th>\n",
       "      <th>V26</th>\n",
       "      <th>V27</th>\n",
       "      <th>V28</th>\n",
       "      <th>Amount</th>\n",
       "      <th>Class</th>\n",
       "    </tr>\n",
       "  </thead>\n",
       "  <tbody>\n",
       "    <tr>\n",
       "      <th>0</th>\n",
       "      <td>0.0</td>\n",
       "      <td>-1.359807</td>\n",
       "      <td>-0.072781</td>\n",
       "      <td>2.536347</td>\n",
       "      <td>1.378155</td>\n",
       "      <td>-0.338321</td>\n",
       "      <td>0.462388</td>\n",
       "      <td>0.239599</td>\n",
       "      <td>0.098698</td>\n",
       "      <td>0.363787</td>\n",
       "      <td>...</td>\n",
       "      <td>-0.018307</td>\n",
       "      <td>0.277838</td>\n",
       "      <td>-0.110474</td>\n",
       "      <td>0.066928</td>\n",
       "      <td>0.128539</td>\n",
       "      <td>-0.189115</td>\n",
       "      <td>0.133558</td>\n",
       "      <td>-0.021053</td>\n",
       "      <td>149.62</td>\n",
       "      <td>0</td>\n",
       "    </tr>\n",
       "    <tr>\n",
       "      <th>1</th>\n",
       "      <td>0.0</td>\n",
       "      <td>1.191857</td>\n",
       "      <td>0.266151</td>\n",
       "      <td>0.166480</td>\n",
       "      <td>0.448154</td>\n",
       "      <td>0.060018</td>\n",
       "      <td>-0.082361</td>\n",
       "      <td>-0.078803</td>\n",
       "      <td>0.085102</td>\n",
       "      <td>-0.255425</td>\n",
       "      <td>...</td>\n",
       "      <td>-0.225775</td>\n",
       "      <td>-0.638672</td>\n",
       "      <td>0.101288</td>\n",
       "      <td>-0.339846</td>\n",
       "      <td>0.167170</td>\n",
       "      <td>0.125895</td>\n",
       "      <td>-0.008983</td>\n",
       "      <td>0.014724</td>\n",
       "      <td>2.69</td>\n",
       "      <td>0</td>\n",
       "    </tr>\n",
       "    <tr>\n",
       "      <th>2</th>\n",
       "      <td>1.0</td>\n",
       "      <td>-1.358354</td>\n",
       "      <td>-1.340163</td>\n",
       "      <td>1.773209</td>\n",
       "      <td>0.379780</td>\n",
       "      <td>-0.503198</td>\n",
       "      <td>1.800499</td>\n",
       "      <td>0.791461</td>\n",
       "      <td>0.247676</td>\n",
       "      <td>-1.514654</td>\n",
       "      <td>...</td>\n",
       "      <td>0.247998</td>\n",
       "      <td>0.771679</td>\n",
       "      <td>0.909412</td>\n",
       "      <td>-0.689281</td>\n",
       "      <td>-0.327642</td>\n",
       "      <td>-0.139097</td>\n",
       "      <td>-0.055353</td>\n",
       "      <td>-0.059752</td>\n",
       "      <td>378.66</td>\n",
       "      <td>0</td>\n",
       "    </tr>\n",
       "  </tbody>\n",
       "</table>\n",
       "<p>3 rows × 31 columns</p>\n",
       "</div>"
      ],
      "text/plain": [
       "   Time        V1        V2        V3        V4        V5        V6        V7  \\\n",
       "0   0.0 -1.359807 -0.072781  2.536347  1.378155 -0.338321  0.462388  0.239599   \n",
       "1   0.0  1.191857  0.266151  0.166480  0.448154  0.060018 -0.082361 -0.078803   \n",
       "2   1.0 -1.358354 -1.340163  1.773209  0.379780 -0.503198  1.800499  0.791461   \n",
       "\n",
       "         V8        V9  ...       V21       V22       V23       V24       V25  \\\n",
       "0  0.098698  0.363787  ... -0.018307  0.277838 -0.110474  0.066928  0.128539   \n",
       "1  0.085102 -0.255425  ... -0.225775 -0.638672  0.101288 -0.339846  0.167170   \n",
       "2  0.247676 -1.514654  ...  0.247998  0.771679  0.909412 -0.689281 -0.327642   \n",
       "\n",
       "        V26       V27       V28  Amount  Class  \n",
       "0 -0.189115  0.133558 -0.021053  149.62      0  \n",
       "1  0.125895 -0.008983  0.014724    2.69      0  \n",
       "2 -0.139097 -0.055353 -0.059752  378.66      0  \n",
       "\n",
       "[3 rows x 31 columns]"
      ]
     },
     "execution_count": 4,
     "metadata": {},
     "output_type": "execute_result"
    }
   ],
   "source": [
    "comp_df.head(3)"
   ]
  },
  {
   "cell_type": "code",
   "execution_count": 5,
   "metadata": {
    "execution": {
     "iopub.execute_input": "2020-12-17T09:53:36.866662Z",
     "iopub.status.busy": "2020-12-17T09:53:36.865842Z",
     "iopub.status.idle": "2020-12-17T09:53:36.869702Z",
     "shell.execute_reply": "2020-12-17T09:53:36.869048Z"
    },
    "papermill": {
     "duration": 0.042539,
     "end_time": "2020-12-17T09:53:36.869825",
     "exception": false,
     "start_time": "2020-12-17T09:53:36.827286",
     "status": "completed"
    },
    "tags": []
   },
   "outputs": [
    {
     "data": {
      "text/plain": [
       "Time      float64\n",
       "V1        float64\n",
       "V2        float64\n",
       "V3        float64\n",
       "V4        float64\n",
       "V5        float64\n",
       "V6        float64\n",
       "V7        float64\n",
       "V8        float64\n",
       "V9        float64\n",
       "V10       float64\n",
       "V11       float64\n",
       "V12       float64\n",
       "V13       float64\n",
       "V14       float64\n",
       "V15       float64\n",
       "V16       float64\n",
       "V17       float64\n",
       "V18       float64\n",
       "V19       float64\n",
       "V20       float64\n",
       "V21       float64\n",
       "V22       float64\n",
       "V23       float64\n",
       "V24       float64\n",
       "V25       float64\n",
       "V26       float64\n",
       "V27       float64\n",
       "V28       float64\n",
       "Amount    float64\n",
       "Class       int64\n",
       "dtype: object"
      ]
     },
     "execution_count": 5,
     "metadata": {},
     "output_type": "execute_result"
    }
   ],
   "source": [
    "comp_df.dtypes"
   ]
  },
  {
   "cell_type": "markdown",
   "metadata": {
    "papermill": {
     "duration": 0.030997,
     "end_time": "2020-12-17T09:53:36.932036",
     "exception": false,
     "start_time": "2020-12-17T09:53:36.901039",
     "status": "completed"
    },
    "tags": []
   },
   "source": [
    "- All is float64 besides Class"
   ]
  },
  {
   "cell_type": "code",
   "execution_count": 6,
   "metadata": {
    "execution": {
     "iopub.execute_input": "2020-12-17T09:53:36.998712Z",
     "iopub.status.busy": "2020-12-17T09:53:36.998033Z",
     "iopub.status.idle": "2020-12-17T09:53:37.439587Z",
     "shell.execute_reply": "2020-12-17T09:53:37.440038Z"
    },
    "papermill": {
     "duration": 0.477029,
     "end_time": "2020-12-17T09:53:37.440189",
     "exception": false,
     "start_time": "2020-12-17T09:53:36.963160",
     "status": "completed"
    },
    "tags": []
   },
   "outputs": [
    {
     "data": {
      "text/html": [
       "<div>\n",
       "<style scoped>\n",
       "    .dataframe tbody tr th:only-of-type {\n",
       "        vertical-align: middle;\n",
       "    }\n",
       "\n",
       "    .dataframe tbody tr th {\n",
       "        vertical-align: top;\n",
       "    }\n",
       "\n",
       "    .dataframe thead th {\n",
       "        text-align: right;\n",
       "    }\n",
       "</style>\n",
       "<table border=\"1\" class=\"dataframe\">\n",
       "  <thead>\n",
       "    <tr style=\"text-align: right;\">\n",
       "      <th></th>\n",
       "      <th>Time</th>\n",
       "      <th>V1</th>\n",
       "      <th>V2</th>\n",
       "      <th>V3</th>\n",
       "      <th>V4</th>\n",
       "      <th>V5</th>\n",
       "      <th>V6</th>\n",
       "      <th>V7</th>\n",
       "      <th>V8</th>\n",
       "      <th>V9</th>\n",
       "      <th>...</th>\n",
       "      <th>V21</th>\n",
       "      <th>V22</th>\n",
       "      <th>V23</th>\n",
       "      <th>V24</th>\n",
       "      <th>V25</th>\n",
       "      <th>V26</th>\n",
       "      <th>V27</th>\n",
       "      <th>V28</th>\n",
       "      <th>Amount</th>\n",
       "      <th>Class</th>\n",
       "    </tr>\n",
       "  </thead>\n",
       "  <tbody>\n",
       "    <tr>\n",
       "      <th>count</th>\n",
       "      <td>284807.000000</td>\n",
       "      <td>2.848070e+05</td>\n",
       "      <td>2.848070e+05</td>\n",
       "      <td>2.848070e+05</td>\n",
       "      <td>2.848070e+05</td>\n",
       "      <td>2.848070e+05</td>\n",
       "      <td>2.848070e+05</td>\n",
       "      <td>2.848070e+05</td>\n",
       "      <td>2.848070e+05</td>\n",
       "      <td>2.848070e+05</td>\n",
       "      <td>...</td>\n",
       "      <td>2.848070e+05</td>\n",
       "      <td>2.848070e+05</td>\n",
       "      <td>2.848070e+05</td>\n",
       "      <td>2.848070e+05</td>\n",
       "      <td>2.848070e+05</td>\n",
       "      <td>2.848070e+05</td>\n",
       "      <td>2.848070e+05</td>\n",
       "      <td>2.848070e+05</td>\n",
       "      <td>284807.000000</td>\n",
       "      <td>284807.000000</td>\n",
       "    </tr>\n",
       "    <tr>\n",
       "      <th>mean</th>\n",
       "      <td>94813.859575</td>\n",
       "      <td>3.919560e-15</td>\n",
       "      <td>5.688174e-16</td>\n",
       "      <td>-8.769071e-15</td>\n",
       "      <td>2.782312e-15</td>\n",
       "      <td>-1.552563e-15</td>\n",
       "      <td>2.010663e-15</td>\n",
       "      <td>-1.694249e-15</td>\n",
       "      <td>-1.927028e-16</td>\n",
       "      <td>-3.137024e-15</td>\n",
       "      <td>...</td>\n",
       "      <td>1.537294e-16</td>\n",
       "      <td>7.959909e-16</td>\n",
       "      <td>5.367590e-16</td>\n",
       "      <td>4.458112e-15</td>\n",
       "      <td>1.453003e-15</td>\n",
       "      <td>1.699104e-15</td>\n",
       "      <td>-3.660161e-16</td>\n",
       "      <td>-1.206049e-16</td>\n",
       "      <td>88.349619</td>\n",
       "      <td>0.001727</td>\n",
       "    </tr>\n",
       "    <tr>\n",
       "      <th>std</th>\n",
       "      <td>47488.145955</td>\n",
       "      <td>1.958696e+00</td>\n",
       "      <td>1.651309e+00</td>\n",
       "      <td>1.516255e+00</td>\n",
       "      <td>1.415869e+00</td>\n",
       "      <td>1.380247e+00</td>\n",
       "      <td>1.332271e+00</td>\n",
       "      <td>1.237094e+00</td>\n",
       "      <td>1.194353e+00</td>\n",
       "      <td>1.098632e+00</td>\n",
       "      <td>...</td>\n",
       "      <td>7.345240e-01</td>\n",
       "      <td>7.257016e-01</td>\n",
       "      <td>6.244603e-01</td>\n",
       "      <td>6.056471e-01</td>\n",
       "      <td>5.212781e-01</td>\n",
       "      <td>4.822270e-01</td>\n",
       "      <td>4.036325e-01</td>\n",
       "      <td>3.300833e-01</td>\n",
       "      <td>250.120109</td>\n",
       "      <td>0.041527</td>\n",
       "    </tr>\n",
       "    <tr>\n",
       "      <th>min</th>\n",
       "      <td>0.000000</td>\n",
       "      <td>-5.640751e+01</td>\n",
       "      <td>-7.271573e+01</td>\n",
       "      <td>-4.832559e+01</td>\n",
       "      <td>-5.683171e+00</td>\n",
       "      <td>-1.137433e+02</td>\n",
       "      <td>-2.616051e+01</td>\n",
       "      <td>-4.355724e+01</td>\n",
       "      <td>-7.321672e+01</td>\n",
       "      <td>-1.343407e+01</td>\n",
       "      <td>...</td>\n",
       "      <td>-3.483038e+01</td>\n",
       "      <td>-1.093314e+01</td>\n",
       "      <td>-4.480774e+01</td>\n",
       "      <td>-2.836627e+00</td>\n",
       "      <td>-1.029540e+01</td>\n",
       "      <td>-2.604551e+00</td>\n",
       "      <td>-2.256568e+01</td>\n",
       "      <td>-1.543008e+01</td>\n",
       "      <td>0.000000</td>\n",
       "      <td>0.000000</td>\n",
       "    </tr>\n",
       "    <tr>\n",
       "      <th>25%</th>\n",
       "      <td>54201.500000</td>\n",
       "      <td>-9.203734e-01</td>\n",
       "      <td>-5.985499e-01</td>\n",
       "      <td>-8.903648e-01</td>\n",
       "      <td>-8.486401e-01</td>\n",
       "      <td>-6.915971e-01</td>\n",
       "      <td>-7.682956e-01</td>\n",
       "      <td>-5.540759e-01</td>\n",
       "      <td>-2.086297e-01</td>\n",
       "      <td>-6.430976e-01</td>\n",
       "      <td>...</td>\n",
       "      <td>-2.283949e-01</td>\n",
       "      <td>-5.423504e-01</td>\n",
       "      <td>-1.618463e-01</td>\n",
       "      <td>-3.545861e-01</td>\n",
       "      <td>-3.171451e-01</td>\n",
       "      <td>-3.269839e-01</td>\n",
       "      <td>-7.083953e-02</td>\n",
       "      <td>-5.295979e-02</td>\n",
       "      <td>5.600000</td>\n",
       "      <td>0.000000</td>\n",
       "    </tr>\n",
       "    <tr>\n",
       "      <th>50%</th>\n",
       "      <td>84692.000000</td>\n",
       "      <td>1.810880e-02</td>\n",
       "      <td>6.548556e-02</td>\n",
       "      <td>1.798463e-01</td>\n",
       "      <td>-1.984653e-02</td>\n",
       "      <td>-5.433583e-02</td>\n",
       "      <td>-2.741871e-01</td>\n",
       "      <td>4.010308e-02</td>\n",
       "      <td>2.235804e-02</td>\n",
       "      <td>-5.142873e-02</td>\n",
       "      <td>...</td>\n",
       "      <td>-2.945017e-02</td>\n",
       "      <td>6.781943e-03</td>\n",
       "      <td>-1.119293e-02</td>\n",
       "      <td>4.097606e-02</td>\n",
       "      <td>1.659350e-02</td>\n",
       "      <td>-5.213911e-02</td>\n",
       "      <td>1.342146e-03</td>\n",
       "      <td>1.124383e-02</td>\n",
       "      <td>22.000000</td>\n",
       "      <td>0.000000</td>\n",
       "    </tr>\n",
       "    <tr>\n",
       "      <th>75%</th>\n",
       "      <td>139320.500000</td>\n",
       "      <td>1.315642e+00</td>\n",
       "      <td>8.037239e-01</td>\n",
       "      <td>1.027196e+00</td>\n",
       "      <td>7.433413e-01</td>\n",
       "      <td>6.119264e-01</td>\n",
       "      <td>3.985649e-01</td>\n",
       "      <td>5.704361e-01</td>\n",
       "      <td>3.273459e-01</td>\n",
       "      <td>5.971390e-01</td>\n",
       "      <td>...</td>\n",
       "      <td>1.863772e-01</td>\n",
       "      <td>5.285536e-01</td>\n",
       "      <td>1.476421e-01</td>\n",
       "      <td>4.395266e-01</td>\n",
       "      <td>3.507156e-01</td>\n",
       "      <td>2.409522e-01</td>\n",
       "      <td>9.104512e-02</td>\n",
       "      <td>7.827995e-02</td>\n",
       "      <td>77.165000</td>\n",
       "      <td>0.000000</td>\n",
       "    </tr>\n",
       "    <tr>\n",
       "      <th>max</th>\n",
       "      <td>172792.000000</td>\n",
       "      <td>2.454930e+00</td>\n",
       "      <td>2.205773e+01</td>\n",
       "      <td>9.382558e+00</td>\n",
       "      <td>1.687534e+01</td>\n",
       "      <td>3.480167e+01</td>\n",
       "      <td>7.330163e+01</td>\n",
       "      <td>1.205895e+02</td>\n",
       "      <td>2.000721e+01</td>\n",
       "      <td>1.559499e+01</td>\n",
       "      <td>...</td>\n",
       "      <td>2.720284e+01</td>\n",
       "      <td>1.050309e+01</td>\n",
       "      <td>2.252841e+01</td>\n",
       "      <td>4.584549e+00</td>\n",
       "      <td>7.519589e+00</td>\n",
       "      <td>3.517346e+00</td>\n",
       "      <td>3.161220e+01</td>\n",
       "      <td>3.384781e+01</td>\n",
       "      <td>25691.160000</td>\n",
       "      <td>1.000000</td>\n",
       "    </tr>\n",
       "  </tbody>\n",
       "</table>\n",
       "<p>8 rows × 31 columns</p>\n",
       "</div>"
      ],
      "text/plain": [
       "                Time            V1            V2            V3            V4  \\\n",
       "count  284807.000000  2.848070e+05  2.848070e+05  2.848070e+05  2.848070e+05   \n",
       "mean    94813.859575  3.919560e-15  5.688174e-16 -8.769071e-15  2.782312e-15   \n",
       "std     47488.145955  1.958696e+00  1.651309e+00  1.516255e+00  1.415869e+00   \n",
       "min         0.000000 -5.640751e+01 -7.271573e+01 -4.832559e+01 -5.683171e+00   \n",
       "25%     54201.500000 -9.203734e-01 -5.985499e-01 -8.903648e-01 -8.486401e-01   \n",
       "50%     84692.000000  1.810880e-02  6.548556e-02  1.798463e-01 -1.984653e-02   \n",
       "75%    139320.500000  1.315642e+00  8.037239e-01  1.027196e+00  7.433413e-01   \n",
       "max    172792.000000  2.454930e+00  2.205773e+01  9.382558e+00  1.687534e+01   \n",
       "\n",
       "                 V5            V6            V7            V8            V9  \\\n",
       "count  2.848070e+05  2.848070e+05  2.848070e+05  2.848070e+05  2.848070e+05   \n",
       "mean  -1.552563e-15  2.010663e-15 -1.694249e-15 -1.927028e-16 -3.137024e-15   \n",
       "std    1.380247e+00  1.332271e+00  1.237094e+00  1.194353e+00  1.098632e+00   \n",
       "min   -1.137433e+02 -2.616051e+01 -4.355724e+01 -7.321672e+01 -1.343407e+01   \n",
       "25%   -6.915971e-01 -7.682956e-01 -5.540759e-01 -2.086297e-01 -6.430976e-01   \n",
       "50%   -5.433583e-02 -2.741871e-01  4.010308e-02  2.235804e-02 -5.142873e-02   \n",
       "75%    6.119264e-01  3.985649e-01  5.704361e-01  3.273459e-01  5.971390e-01   \n",
       "max    3.480167e+01  7.330163e+01  1.205895e+02  2.000721e+01  1.559499e+01   \n",
       "\n",
       "       ...           V21           V22           V23           V24  \\\n",
       "count  ...  2.848070e+05  2.848070e+05  2.848070e+05  2.848070e+05   \n",
       "mean   ...  1.537294e-16  7.959909e-16  5.367590e-16  4.458112e-15   \n",
       "std    ...  7.345240e-01  7.257016e-01  6.244603e-01  6.056471e-01   \n",
       "min    ... -3.483038e+01 -1.093314e+01 -4.480774e+01 -2.836627e+00   \n",
       "25%    ... -2.283949e-01 -5.423504e-01 -1.618463e-01 -3.545861e-01   \n",
       "50%    ... -2.945017e-02  6.781943e-03 -1.119293e-02  4.097606e-02   \n",
       "75%    ...  1.863772e-01  5.285536e-01  1.476421e-01  4.395266e-01   \n",
       "max    ...  2.720284e+01  1.050309e+01  2.252841e+01  4.584549e+00   \n",
       "\n",
       "                V25           V26           V27           V28         Amount  \\\n",
       "count  2.848070e+05  2.848070e+05  2.848070e+05  2.848070e+05  284807.000000   \n",
       "mean   1.453003e-15  1.699104e-15 -3.660161e-16 -1.206049e-16      88.349619   \n",
       "std    5.212781e-01  4.822270e-01  4.036325e-01  3.300833e-01     250.120109   \n",
       "min   -1.029540e+01 -2.604551e+00 -2.256568e+01 -1.543008e+01       0.000000   \n",
       "25%   -3.171451e-01 -3.269839e-01 -7.083953e-02 -5.295979e-02       5.600000   \n",
       "50%    1.659350e-02 -5.213911e-02  1.342146e-03  1.124383e-02      22.000000   \n",
       "75%    3.507156e-01  2.409522e-01  9.104512e-02  7.827995e-02      77.165000   \n",
       "max    7.519589e+00  3.517346e+00  3.161220e+01  3.384781e+01   25691.160000   \n",
       "\n",
       "               Class  \n",
       "count  284807.000000  \n",
       "mean        0.001727  \n",
       "std         0.041527  \n",
       "min         0.000000  \n",
       "25%         0.000000  \n",
       "50%         0.000000  \n",
       "75%         0.000000  \n",
       "max         1.000000  \n",
       "\n",
       "[8 rows x 31 columns]"
      ]
     },
     "execution_count": 6,
     "metadata": {},
     "output_type": "execute_result"
    }
   ],
   "source": [
    "comp_df.describe()"
   ]
  },
  {
   "cell_type": "code",
   "execution_count": 7,
   "metadata": {
    "execution": {
     "iopub.execute_input": "2020-12-17T09:53:37.509308Z",
     "iopub.status.busy": "2020-12-17T09:53:37.508678Z",
     "iopub.status.idle": "2020-12-17T09:53:37.535867Z",
     "shell.execute_reply": "2020-12-17T09:53:37.536417Z"
    },
    "papermill": {
     "duration": 0.063965,
     "end_time": "2020-12-17T09:53:37.536569",
     "exception": false,
     "start_time": "2020-12-17T09:53:37.472604",
     "status": "completed"
    },
    "tags": []
   },
   "outputs": [
    {
     "data": {
      "text/plain": [
       "Time      0\n",
       "V1        0\n",
       "V2        0\n",
       "V3        0\n",
       "V4        0\n",
       "V5        0\n",
       "V6        0\n",
       "V7        0\n",
       "V8        0\n",
       "V9        0\n",
       "V10       0\n",
       "V11       0\n",
       "V12       0\n",
       "V13       0\n",
       "V14       0\n",
       "V15       0\n",
       "V16       0\n",
       "V17       0\n",
       "V18       0\n",
       "V19       0\n",
       "V20       0\n",
       "V21       0\n",
       "V22       0\n",
       "V23       0\n",
       "V24       0\n",
       "V25       0\n",
       "V26       0\n",
       "V27       0\n",
       "V28       0\n",
       "Amount    0\n",
       "Class     0\n",
       "dtype: int64"
      ]
     },
     "execution_count": 7,
     "metadata": {},
     "output_type": "execute_result"
    }
   ],
   "source": [
    "comp_df.isnull().sum()"
   ]
  },
  {
   "cell_type": "markdown",
   "metadata": {
    "papermill": {
     "duration": 0.032391,
     "end_time": "2020-12-17T09:53:37.601904",
     "exception": false,
     "start_time": "2020-12-17T09:53:37.569513",
     "status": "completed"
    },
    "tags": []
   },
   "source": [
    "No missing data in the dataset."
   ]
  },
  {
   "cell_type": "markdown",
   "metadata": {
    "papermill": {
     "duration": 0.032291,
     "end_time": "2020-12-17T09:53:37.666613",
     "exception": false,
     "start_time": "2020-12-17T09:53:37.634322",
     "status": "completed"
    },
    "tags": []
   },
   "source": [
    "# Data EDA"
   ]
  },
  {
   "cell_type": "code",
   "execution_count": 8,
   "metadata": {
    "execution": {
     "iopub.execute_input": "2020-12-17T09:53:37.735000Z",
     "iopub.status.busy": "2020-12-17T09:53:37.734307Z",
     "iopub.status.idle": "2020-12-17T09:53:37.902836Z",
     "shell.execute_reply": "2020-12-17T09:53:37.903354Z"
    },
    "papermill": {
     "duration": 0.204246,
     "end_time": "2020-12-17T09:53:37.903531",
     "exception": false,
     "start_time": "2020-12-17T09:53:37.699285",
     "status": "completed"
    },
    "tags": []
   },
   "outputs": [
    {
     "data": {
      "text/plain": [
       "<matplotlib.axes._subplots.AxesSubplot at 0x7f0cf6b2ec90>"
      ]
     },
     "execution_count": 8,
     "metadata": {},
     "output_type": "execute_result"
    },
    {
     "data": {
      "image/png": "[encoded data removed]",
      "text/plain": [
       "<Figure size 432x288 with 1 Axes>"
      ]
     },
     "metadata": {
      "needs_background": "light"
     },
     "output_type": "display_data"
    }
   ],
   "source": [
    "sns.countplot('Class',data=comp_df)"
   ]
  },
  {
   "cell_type": "markdown",
   "metadata": {
    "papermill": {
     "duration": 0.033439,
     "end_time": "2020-12-17T09:53:37.971649",
     "exception": false,
     "start_time": "2020-12-17T09:53:37.938210",
     "status": "completed"
    },
    "tags": []
   },
   "source": [
    "- The data is extrmely imbalanced, only 0.172% class 1 data."
   ]
  },
  {
   "cell_type": "code",
   "execution_count": 9,
   "metadata": {
    "execution": {
     "iopub.execute_input": "2020-12-17T09:53:38.043115Z",
     "iopub.status.busy": "2020-12-17T09:53:38.042398Z",
     "iopub.status.idle": "2020-12-17T09:53:39.398955Z",
     "shell.execute_reply": "2020-12-17T09:53:39.398245Z"
    },
    "papermill": {
     "duration": 1.393604,
     "end_time": "2020-12-17T09:53:39.399082",
     "exception": false,
     "start_time": "2020-12-17T09:53:38.005478",
     "status": "completed"
    },
    "tags": []
   },
   "outputs": [
    {
     "data": {
      "text/plain": [
       "<matplotlib.axes._subplots.AxesSubplot at 0x7f0cf695fdd0>"
      ]
     },
     "execution_count": 9,
     "metadata": {},
     "output_type": "execute_result"
    },
    {
     "data": {
      "image/png": "[encoded data removed]",
      "text/plain": [
       "<Figure size 1080x720 with 2 Axes>"
      ]
     },
     "metadata": {
      "needs_background": "light"
     },
     "output_type": "display_data"
    }
   ],
   "source": [
    "plt.figure(figsize=(15,10))\n",
    "sns.heatmap(comp_df.corr(),cmap='Reds')"
   ]
  },
  {
   "cell_type": "code",
   "execution_count": 10,
   "metadata": {
    "execution": {
     "iopub.execute_input": "2020-12-17T09:53:39.484110Z",
     "iopub.status.busy": "2020-12-17T09:53:39.483009Z",
     "iopub.status.idle": "2020-12-17T09:53:39.989104Z",
     "shell.execute_reply": "2020-12-17T09:53:39.988570Z"
    },
    "papermill": {
     "duration": 0.553682,
     "end_time": "2020-12-17T09:53:39.989209",
     "exception": false,
     "start_time": "2020-12-17T09:53:39.435527",
     "status": "completed"
    },
    "tags": []
   },
   "outputs": [
    {
     "data": {
      "text/plain": [
       "<matplotlib.axes._subplots.AxesSubplot at 0x7f0cf67505d0>"
      ]
     },
     "execution_count": 10,
     "metadata": {},
     "output_type": "execute_result"
    },
    {
     "data": {
      "image/png": "[encoded data removed]",
      "text/plain": [
       "<Figure size 1440x432 with 2 Axes>"
      ]
     },
     "metadata": {
      "needs_background": "light"
     },
     "output_type": "display_data"
    }
   ],
   "source": [
    "fig, (ax1,ax2) = plt.subplots(2,1,figsize=(20,6))\n",
    "sns.distplot(comp_df.Amount,ax=ax1)\n",
    "sns.boxplot(comp_df.Amount, ax=ax2)"
   ]
  },
  {
   "cell_type": "markdown",
   "metadata": {
    "papermill": {
     "duration": 0.037185,
     "end_time": "2020-12-17T09:53:40.063284",
     "exception": false,
     "start_time": "2020-12-17T09:53:40.026099",
     "status": "completed"
    },
    "tags": []
   },
   "source": [
    "- The variance of amount is quite large, there are so many outliers in the data."
   ]
  },
  {
   "cell_type": "code",
   "execution_count": 11,
   "metadata": {
    "execution": {
     "iopub.execute_input": "2020-12-17T09:53:40.142651Z",
     "iopub.status.busy": "2020-12-17T09:53:40.141984Z",
     "iopub.status.idle": "2020-12-17T09:53:40.428263Z",
     "shell.execute_reply": "2020-12-17T09:53:40.427637Z"
    },
    "papermill": {
     "duration": 0.328209,
     "end_time": "2020-12-17T09:53:40.428376",
     "exception": false,
     "start_time": "2020-12-17T09:53:40.100167",
     "status": "completed"
    },
    "tags": []
   },
   "outputs": [
    {
     "data": {
      "text/plain": [
       "<matplotlib.axes._subplots.AxesSubplot at 0x7f0cf668b350>"
      ]
     },
     "execution_count": 11,
     "metadata": {},
     "output_type": "execute_result"
    },
    {
     "data": {
      "image/png": "[encoded data removed]",
      "text/plain": [
       "<Figure size 432x288 with 1 Axes>"
      ]
     },
     "metadata": {
      "needs_background": "light"
     },
     "output_type": "display_data"
    }
   ],
   "source": [
    "sns.boxplot(x='Class',y='Amount',data=comp_df)"
   ]
  },
  {
   "cell_type": "markdown",
   "metadata": {
    "papermill": {
     "duration": 0.039794,
     "end_time": "2020-12-17T09:53:40.506388",
     "exception": false,
     "start_time": "2020-12-17T09:53:40.466594",
     "status": "completed"
    },
    "tags": []
   },
   "source": [
    "- The money amount for fraud transaction are not high as normal transaction."
   ]
  },
  {
   "cell_type": "markdown",
   "metadata": {
    "papermill": {
     "duration": 0.037701,
     "end_time": "2020-12-17T09:53:40.582675",
     "exception": false,
     "start_time": "2020-12-17T09:53:40.544974",
     "status": "completed"
    },
    "tags": []
   },
   "source": [
    "### Time"
   ]
  },
  {
   "cell_type": "code",
   "execution_count": 12,
   "metadata": {
    "execution": {
     "iopub.execute_input": "2020-12-17T09:53:40.668819Z",
     "iopub.status.busy": "2020-12-17T09:53:40.664134Z",
     "iopub.status.idle": "2020-12-17T09:53:40.946916Z",
     "shell.execute_reply": "2020-12-17T09:53:40.946221Z"
    },
    "papermill": {
     "duration": 0.326504,
     "end_time": "2020-12-17T09:53:40.947032",
     "exception": false,
     "start_time": "2020-12-17T09:53:40.620528",
     "status": "completed"
    },
    "tags": []
   },
   "outputs": [
    {
     "data": {
      "text/plain": [
       "<matplotlib.axes._subplots.AxesSubplot at 0x7f0cf6679c90>"
      ]
     },
     "execution_count": 12,
     "metadata": {},
     "output_type": "execute_result"
    },
    {
     "data": {
      "image/png": "[encoded data removed]",
      "text/plain": [
       "<Figure size 432x288 with 1 Axes>"
      ]
     },
     "metadata": {
      "needs_background": "light"
     },
     "output_type": "display_data"
    }
   ],
   "source": [
    "sns.distplot(comp_df.Time)"
   ]
  },
  {
   "cell_type": "code",
   "execution_count": 13,
   "metadata": {
    "execution": {
     "iopub.execute_input": "2020-12-17T09:53:41.029327Z",
     "iopub.status.busy": "2020-12-17T09:53:41.028340Z",
     "iopub.status.idle": "2020-12-17T09:53:41.055895Z",
     "shell.execute_reply": "2020-12-17T09:53:41.056380Z"
    },
    "papermill": {
     "duration": 0.070059,
     "end_time": "2020-12-17T09:53:41.056557",
     "exception": false,
     "start_time": "2020-12-17T09:53:40.986498",
     "status": "completed"
    },
    "tags": []
   },
   "outputs": [],
   "source": [
    "# Transfer the time to hour\n",
    "comp_df['hour'] = (comp_df['Time']/60/60).astype(int)"
   ]
  },
  {
   "cell_type": "code",
   "execution_count": 14,
   "metadata": {
    "execution": {
     "iopub.execute_input": "2020-12-17T09:53:41.139507Z",
     "iopub.status.busy": "2020-12-17T09:53:41.138540Z",
     "iopub.status.idle": "2020-12-17T09:53:42.100313Z",
     "shell.execute_reply": "2020-12-17T09:53:42.100837Z"
    },
    "papermill": {
     "duration": 1.004788,
     "end_time": "2020-12-17T09:53:42.100993",
     "exception": false,
     "start_time": "2020-12-17T09:53:41.096205",
     "status": "completed"
    },
    "tags": []
   },
   "outputs": [
    {
     "data": {
      "text/plain": [
       "<matplotlib.axes._subplots.AxesSubplot at 0x7f0cf440b110>"
      ]
     },
     "execution_count": 14,
     "metadata": {},
     "output_type": "execute_result"
    },
    {
     "data": {
      "image/png": "[encoded data removed]",
      "text/plain": [
       "<Figure size 720x720 with 2 Axes>"
      ]
     },
     "metadata": {
      "needs_background": "light"
     },
     "output_type": "display_data"
    }
   ],
   "source": [
    "fig, (ax1,ax2) = plt.subplots(2,1,figsize=(10,10))\n",
    "ax1.set_title('Distribution of Fraud transaction vs Time(hour)')\n",
    "ax1.set_xlabel('Number of Fraud transaction')\n",
    "sns.countplot(comp_df[comp_df.Class==1]['hour'], ax=ax1)\n",
    "ax2.set_title('Distribution of non-Fraud transaction vs Time(hour)')\n",
    "sns.countplot(comp_df[comp_df.Class==0]['hour'], ax=ax2)"
   ]
  },
  {
   "cell_type": "code",
   "execution_count": 15,
   "metadata": {
    "execution": {
     "iopub.execute_input": "2020-12-17T09:53:42.216469Z",
     "iopub.status.busy": "2020-12-17T09:53:42.215635Z",
     "iopub.status.idle": "2020-12-17T09:53:42.218822Z",
     "shell.execute_reply": "2020-12-17T09:53:42.218189Z"
    },
    "papermill": {
     "duration": 0.075748,
     "end_time": "2020-12-17T09:53:42.218936",
     "exception": false,
     "start_time": "2020-12-17T09:53:42.143188",
     "status": "completed"
    },
    "tags": []
   },
   "outputs": [],
   "source": [
    "comp_df.drop('hour',axis=1,inplace=True)"
   ]
  },
  {
   "cell_type": "markdown",
   "metadata": {
    "papermill": {
     "duration": 0.040673,
     "end_time": "2020-12-17T09:53:42.300700",
     "exception": false,
     "start_time": "2020-12-17T09:53:42.260027",
     "status": "completed"
    },
    "tags": []
   },
   "source": [
    "# Features Engineering"
   ]
  },
  {
   "cell_type": "markdown",
   "metadata": {
    "papermill": {
     "duration": 0.040743,
     "end_time": "2020-12-17T09:53:42.382673",
     "exception": false,
     "start_time": "2020-12-17T09:53:42.341930",
     "status": "completed"
    },
    "tags": []
   },
   "source": [
    "#### Drop the outliers"
   ]
  },
  {
   "cell_type": "code",
   "execution_count": 16,
   "metadata": {
    "execution": {
     "iopub.execute_input": "2020-12-17T09:53:42.472003Z",
     "iopub.status.busy": "2020-12-17T09:53:42.471280Z",
     "iopub.status.idle": "2020-12-17T09:53:42.501495Z",
     "shell.execute_reply": "2020-12-17T09:53:42.500888Z"
    },
    "papermill": {
     "duration": 0.077819,
     "end_time": "2020-12-17T09:53:42.501610",
     "exception": false,
     "start_time": "2020-12-17T09:53:42.423791",
     "status": "completed"
    },
    "tags": []
   },
   "outputs": [
    {
     "name": "stdout",
     "output_type": "stream",
     "text": [
      "184.5125\n",
      "0    31813\n",
      "1       91\n",
      "Name: Class, dtype: int64\n"
     ]
    }
   ],
   "source": [
    "# Drop the outlier \n",
    "# Won't drop the outlier in class 1 \n",
    "# Check the number of outliers\n",
    "from scipy.stats import iqr\n",
    "upper_limit = comp_df.Amount.quantile(0.75) + (1.5*iqr(comp_df.Amount))\n",
    "print(upper_limit)\n",
    "print(comp_df[comp_df.Amount>upper_limit]['Class'].value_counts())"
   ]
  },
  {
   "cell_type": "markdown",
   "metadata": {
    "papermill": {
     "duration": 0.041176,
     "end_time": "2020-12-17T09:53:42.584639",
     "exception": false,
     "start_time": "2020-12-17T09:53:42.543463",
     "status": "completed"
    },
    "tags": []
   },
   "source": [
    "- There are 31904 outliers, 91 of them are in class 1\n",
    "- lets make the threshold higher to 5000."
   ]
  },
  {
   "cell_type": "code",
   "execution_count": 17,
   "metadata": {
    "execution": {
     "iopub.execute_input": "2020-12-17T09:53:42.673371Z",
     "iopub.status.busy": "2020-12-17T09:53:42.672707Z",
     "iopub.status.idle": "2020-12-17T09:53:42.679501Z",
     "shell.execute_reply": "2020-12-17T09:53:42.678824Z"
    },
    "papermill": {
     "duration": 0.05352,
     "end_time": "2020-12-17T09:53:42.679619",
     "exception": false,
     "start_time": "2020-12-17T09:53:42.626099",
     "status": "completed"
    },
    "tags": []
   },
   "outputs": [
    {
     "name": "stdout",
     "output_type": "stream",
     "text": [
      "0    55\n",
      "Name: Class, dtype: int64\n"
     ]
    }
   ],
   "source": [
    "print(comp_df[comp_df.Amount>5000]['Class'].value_counts())"
   ]
  },
  {
   "cell_type": "code",
   "execution_count": 18,
   "metadata": {
    "execution": {
     "iopub.execute_input": "2020-12-17T09:53:42.771442Z",
     "iopub.status.busy": "2020-12-17T09:53:42.770678Z",
     "iopub.status.idle": "2020-12-17T09:53:42.809784Z",
     "shell.execute_reply": "2020-12-17T09:53:42.809126Z"
    },
    "papermill": {
     "duration": 0.087204,
     "end_time": "2020-12-17T09:53:42.809905",
     "exception": false,
     "start_time": "2020-12-17T09:53:42.722701",
     "status": "completed"
    },
    "tags": []
   },
   "outputs": [],
   "source": [
    "comp_df = comp_df[comp_df.Amount <= 5000]"
   ]
  },
  {
   "cell_type": "markdown",
   "metadata": {
    "papermill": {
     "duration": 0.043336,
     "end_time": "2020-12-17T09:53:42.896040",
     "exception": false,
     "start_time": "2020-12-17T09:53:42.852704",
     "status": "completed"
    },
    "tags": []
   },
   "source": [
    "#### Standardize all numerical column"
   ]
  },
  {
   "cell_type": "code",
   "execution_count": 19,
   "metadata": {
    "execution": {
     "iopub.execute_input": "2020-12-17T09:53:42.987807Z",
     "iopub.status.busy": "2020-12-17T09:53:42.987133Z",
     "iopub.status.idle": "2020-12-17T09:53:43.272039Z",
     "shell.execute_reply": "2020-12-17T09:53:43.271441Z"
    },
    "papermill": {
     "duration": 0.333553,
     "end_time": "2020-12-17T09:53:43.272156",
     "exception": false,
     "start_time": "2020-12-17T09:53:42.938603",
     "status": "completed"
    },
    "tags": []
   },
   "outputs": [],
   "source": [
    "from sklearn.preprocessing import StandardScaler\n",
    "scaler_df = comp_df.drop('Class',axis=1)\n",
    "scaler_df = StandardScaler().fit_transform(scaler_df)\n",
    "scaler_df = pd.DataFrame(scaler_df)"
   ]
  },
  {
   "cell_type": "markdown",
   "metadata": {
    "papermill": {
     "duration": 0.042487,
     "end_time": "2020-12-17T09:53:43.357536",
     "exception": false,
     "start_time": "2020-12-17T09:53:43.315049",
     "status": "completed"
    },
    "tags": []
   },
   "source": [
    "# Split the data into training set and test set\n",
    "- There is no test data provided in this project, so train_test_split to split the data"
   ]
  },
  {
   "cell_type": "code",
   "execution_count": 20,
   "metadata": {
    "execution": {
     "iopub.execute_input": "2020-12-17T09:53:43.448665Z",
     "iopub.status.busy": "2020-12-17T09:53:43.447850Z",
     "iopub.status.idle": "2020-12-17T09:53:43.505251Z",
     "shell.execute_reply": "2020-12-17T09:53:43.504650Z"
    },
    "papermill": {
     "duration": 0.105021,
     "end_time": "2020-12-17T09:53:43.505384",
     "exception": false,
     "start_time": "2020-12-17T09:53:43.400363",
     "status": "completed"
    },
    "tags": []
   },
   "outputs": [],
   "source": [
    "from sklearn.model_selection import train_test_split\n",
    "from collections import Counter"
   ]
  },
  {
   "cell_type": "code",
   "execution_count": 21,
   "metadata": {
    "execution": {
     "iopub.execute_input": "2020-12-17T09:53:43.598361Z",
     "iopub.status.busy": "2020-12-17T09:53:43.596965Z",
     "iopub.status.idle": "2020-12-17T09:53:43.627083Z",
     "shell.execute_reply": "2020-12-17T09:53:43.626474Z"
    },
    "papermill": {
     "duration": 0.078851,
     "end_time": "2020-12-17T09:53:43.627200",
     "exception": false,
     "start_time": "2020-12-17T09:53:43.548349",
     "status": "completed"
    },
    "tags": []
   },
   "outputs": [],
   "source": [
    "x_df = scaler_df.copy()\n",
    "y_df = np.asarray(comp_df['Class'])"
   ]
  },
  {
   "cell_type": "code",
   "execution_count": 22,
   "metadata": {
    "execution": {
     "iopub.execute_input": "2020-12-17T09:53:43.721396Z",
     "iopub.status.busy": "2020-12-17T09:53:43.720519Z",
     "iopub.status.idle": "2020-12-17T09:53:43.815964Z",
     "shell.execute_reply": "2020-12-17T09:53:43.815155Z"
    },
    "papermill": {
     "duration": 0.145309,
     "end_time": "2020-12-17T09:53:43.816104",
     "exception": false,
     "start_time": "2020-12-17T09:53:43.670795",
     "status": "completed"
    },
    "tags": []
   },
   "outputs": [],
   "source": [
    "x_train, x_test, y_train,y_test = train_test_split(x_df,y_df, test_size=0.3,random_state=11)"
   ]
  },
  {
   "cell_type": "code",
   "execution_count": 23,
   "metadata": {
    "execution": {
     "iopub.execute_input": "2020-12-17T09:53:43.909327Z",
     "iopub.status.busy": "2020-12-17T09:53:43.908655Z",
     "iopub.status.idle": "2020-12-17T09:53:43.914528Z",
     "shell.execute_reply": "2020-12-17T09:53:43.915044Z"
    },
    "papermill": {
     "duration": 0.054734,
     "end_time": "2020-12-17T09:53:43.915181",
     "exception": false,
     "start_time": "2020-12-17T09:53:43.860447",
     "status": "completed"
    },
    "tags": []
   },
   "outputs": [
    {
     "data": {
      "text/plain": [
       "((199326, 30), (85426, 30), (199326,), (85426,))"
      ]
     },
     "execution_count": 23,
     "metadata": {},
     "output_type": "execute_result"
    }
   ],
   "source": [
    "#Check the shape\n",
    "x_train.shape, x_test.shape, y_train.shape, y_test.shape"
   ]
  },
  {
   "cell_type": "code",
   "execution_count": 24,
   "metadata": {
    "execution": {
     "iopub.execute_input": "2020-12-17T09:53:44.006345Z",
     "iopub.status.busy": "2020-12-17T09:53:44.005370Z",
     "iopub.status.idle": "2020-12-17T09:53:44.239275Z",
     "shell.execute_reply": "2020-12-17T09:53:44.238756Z"
    },
    "papermill": {
     "duration": 0.280149,
     "end_time": "2020-12-17T09:53:44.239394",
     "exception": false,
     "start_time": "2020-12-17T09:53:43.959245",
     "status": "completed"
    },
    "tags": []
   },
   "outputs": [
    {
     "name": "stdout",
     "output_type": "stream",
     "text": [
      "Class 1 in training set: 0.17 %\n",
      "Clas 1 in test set: 0.18 %\n"
     ]
    }
   ],
   "source": [
    "print('Class 1 in training set: {:.2f} %'.format(Counter(y_train)[1]/Counter(y_train)[0]*100))\n",
    "print('Clas 1 in test set: {:.2f} %'.format(Counter(y_test)[1]/Counter(y_test)[0]*100))"
   ]
  },
  {
   "cell_type": "markdown",
   "metadata": {
    "papermill": {
     "duration": 0.043623,
     "end_time": "2020-12-17T09:53:44.327112",
     "exception": false,
     "start_time": "2020-12-17T09:53:44.283489",
     "status": "completed"
    },
    "tags": []
   },
   "source": [
    "# Start training model"
   ]
  },
  {
   "cell_type": "code",
   "execution_count": 25,
   "metadata": {
    "execution": {
     "iopub.execute_input": "2020-12-17T09:53:44.422299Z",
     "iopub.status.busy": "2020-12-17T09:53:44.421549Z",
     "iopub.status.idle": "2020-12-17T09:53:45.632816Z",
     "shell.execute_reply": "2020-12-17T09:53:45.632229Z"
    },
    "papermill": {
     "duration": 1.261869,
     "end_time": "2020-12-17T09:53:45.632951",
     "exception": false,
     "start_time": "2020-12-17T09:53:44.371082",
     "status": "completed"
    },
    "tags": []
   },
   "outputs": [],
   "source": [
    "from imblearn.over_sampling import SMOTE, BorderlineSMOTE, ADASYN, SVMSMOTE\n",
    "from imblearn.under_sampling import RandomUnderSampler\n",
    "from imblearn.pipeline import Pipeline\n",
    "\n",
    "from xgboost import XGBClassifier\n",
    "\n",
    "from sklearn.model_selection import cross_val_score, GridSearchCV, RepeatedStratifiedKFold, cross_validate\n",
    "from sklearn.metrics import classification_report, roc_auc_score, confusion_matrix,plot_precision_recall_curve\n",
    "np.random.seed = 42"
   ]
  },
  {
   "cell_type": "code",
   "execution_count": 26,
   "metadata": {
    "execution": {
     "iopub.execute_input": "2020-12-17T09:53:45.730889Z",
     "iopub.status.busy": "2020-12-17T09:53:45.729865Z",
     "iopub.status.idle": "2020-12-17T09:53:45.733124Z",
     "shell.execute_reply": "2020-12-17T09:53:45.732622Z"
    },
    "papermill": {
     "duration": 0.05617,
     "end_time": "2020-12-17T09:53:45.733238",
     "exception": false,
     "start_time": "2020-12-17T09:53:45.677068",
     "status": "completed"
    },
    "tags": []
   },
   "outputs": [],
   "source": [
    "# Create a function for evaluation\n",
    "def evaluation(clf, x, y):\n",
    "    pred = clf.predict(x)\n",
    "    print(classification_report(y, pred))\n",
    "    print('ROC score:',roc_auc_score(y, pred))\n",
    "    fig, (ax1,ax2) = plt.subplots(1,2,figsize=(12,4))\n",
    "    plot_precision_recall_curve(clf,x, y,ax=ax1)\n",
    "    sns.heatmap(confusion_matrix(y, pred),annot=True, fmt='d',cmap='Reds', ax=ax2,)\n",
    "    ax2.set_xlabel('Pred')\n",
    "    ax2.set_ylabel('True')"
   ]
  },
  {
   "cell_type": "markdown",
   "metadata": {
    "papermill": {
     "duration": 0.045074,
     "end_time": "2020-12-17T09:53:45.822694",
     "exception": false,
     "start_time": "2020-12-17T09:53:45.777620",
     "status": "completed"
    },
    "tags": []
   },
   "source": [
    "### Try without undersampling and oversampling"
   ]
  },
  {
   "cell_type": "code",
   "execution_count": 27,
   "metadata": {
    "execution": {
     "iopub.execute_input": "2020-12-17T09:53:45.917020Z",
     "iopub.status.busy": "2020-12-17T09:53:45.916006Z",
     "iopub.status.idle": "2020-12-17T09:54:23.089978Z",
     "shell.execute_reply": "2020-12-17T09:54:23.090692Z"
    },
    "papermill": {
     "duration": 37.223677,
     "end_time": "2020-12-17T09:54:23.090849",
     "exception": false,
     "start_time": "2020-12-17T09:53:45.867172",
     "status": "completed"
    },
    "tags": []
   },
   "outputs": [
    {
     "name": "stdout",
     "output_type": "stream",
     "text": [
      "              precision    recall  f1-score   support\n",
      "\n",
      "           0       1.00      1.00      1.00     85276\n",
      "           1       0.90      0.75      0.82       150\n",
      "\n",
      "    accuracy                           1.00     85426\n",
      "   macro avg       0.95      0.88      0.91     85426\n",
      "weighted avg       1.00      1.00      1.00     85426\n",
      "\n",
      "ROC score: 0.8765963068936942\n"
     ]
    },
    {
     "data": {
      "image/png": "[encoded data removed]",
      "text/plain": [
       "<Figure size 864x288 with 3 Axes>"
      ]
     },
     "metadata": {
      "needs_background": "light"
     },
     "output_type": "display_data"
    }
   ],
   "source": [
    "clf = XGBClassifier().fit(x_train,y_train)\n",
    "evaluation(clf,x_test,y_test)"
   ]
  },
  {
   "cell_type": "markdown",
   "metadata": {
    "papermill": {
     "duration": 0.046282,
     "end_time": "2020-12-17T09:54:23.183207",
     "exception": false,
     "start_time": "2020-12-17T09:54:23.136925",
     "status": "completed"
    },
    "tags": []
   },
   "source": [
    "- It is so suprising that XGBoost did a really great job without any tuning.\n",
    "\n",
    "- Both precision and recall are not bad. "
   ]
  },
  {
   "cell_type": "markdown",
   "metadata": {
    "papermill": {
     "duration": 0.04558,
     "end_time": "2020-12-17T09:54:23.274827",
     "exception": false,
     "start_time": "2020-12-17T09:54:23.229247",
     "status": "completed"
    },
    "tags": []
   },
   "source": [
    "### Modifing the training data using SMOTE"
   ]
  },
  {
   "cell_type": "markdown",
   "metadata": {
    "papermill": {
     "duration": 0.045586,
     "end_time": "2020-12-17T09:54:23.366095",
     "exception": false,
     "start_time": "2020-12-17T09:54:23.320509",
     "status": "completed"
    },
    "tags": []
   },
   "source": [
    "#### Oversampling the data using SMOTE"
   ]
  },
  {
   "cell_type": "code",
   "execution_count": 28,
   "metadata": {
    "execution": {
     "iopub.execute_input": "2020-12-17T09:54:23.465074Z",
     "iopub.status.busy": "2020-12-17T09:54:23.464353Z",
     "iopub.status.idle": "2020-12-17T09:54:23.780874Z",
     "shell.execute_reply": "2020-12-17T09:54:23.780169Z"
    },
    "papermill": {
     "duration": 0.369072,
     "end_time": "2020-12-17T09:54:23.781000",
     "exception": false,
     "start_time": "2020-12-17T09:54:23.411928",
     "status": "completed"
    },
    "tags": []
   },
   "outputs": [
    {
     "name": "stdout",
     "output_type": "stream",
     "text": [
      "The new ratio of data: Counter({0: 198984, 1: 59695})\n"
     ]
    }
   ],
   "source": [
    "# This time I use oversampling only.\n",
    "over = SMOTE(sampling_strategy=0.3)\n",
    "under = RandomUnderSampler()\n",
    "\n",
    "steps = [\n",
    "    #('under',under),\n",
    "    ('over',over)\n",
    "]\n",
    "xs, ys = Pipeline(steps=steps).fit_resample(x_train,y_train)\n",
    "print('The new ratio of data:',Counter(ys))"
   ]
  },
  {
   "cell_type": "code",
   "execution_count": 29,
   "metadata": {
    "execution": {
     "iopub.execute_input": "2020-12-17T09:54:23.880331Z",
     "iopub.status.busy": "2020-12-17T09:54:23.879103Z",
     "iopub.status.idle": "2020-12-17T09:55:24.333062Z",
     "shell.execute_reply": "2020-12-17T09:55:24.332242Z"
    },
    "papermill": {
     "duration": 60.5043,
     "end_time": "2020-12-17T09:55:24.333198",
     "exception": false,
     "start_time": "2020-12-17T09:54:23.828898",
     "status": "completed"
    },
    "tags": []
   },
   "outputs": [
    {
     "name": "stdout",
     "output_type": "stream",
     "text": [
      "              precision    recall  f1-score   support\n",
      "\n",
      "           0       1.00      1.00      1.00     85276\n",
      "           1       0.84      0.82      0.83       150\n",
      "\n",
      "    accuracy                           1.00     85426\n",
      "   macro avg       0.92      0.91      0.92     85426\n",
      "weighted avg       1.00      1.00      1.00     85426\n",
      "\n",
      "ROC score: 0.9098651437684694\n"
     ]
    },
    {
     "data": {
      "image/png": "[encoded data removed]",
      "text/plain": [
       "<Figure size 864x288 with 3 Axes>"
      ]
     },
     "metadata": {
      "needs_background": "light"
     },
     "output_type": "display_data"
    }
   ],
   "source": [
    "# fit the transformed data to the classifier.\n",
    "clf = XGBClassifier().fit(xs,ys)\n",
    "evaluation(clf,x_test,y_test)"
   ]
  },
  {
   "cell_type": "markdown",
   "metadata": {
    "papermill": {
     "duration": 0.047592,
     "end_time": "2020-12-17T09:55:24.429393",
     "exception": false,
     "start_time": "2020-12-17T09:55:24.381801",
     "status": "completed"
    },
    "tags": []
   },
   "source": [
    "- Although using SMOTE on the data ,we get a more balanced model.\n"
   ]
  },
  {
   "cell_type": "markdown",
   "metadata": {
    "papermill": {
     "duration": 0.047408,
     "end_time": "2020-12-17T09:55:24.524742",
     "exception": false,
     "start_time": "2020-12-17T09:55:24.477334",
     "status": "completed"
    },
    "tags": []
   },
   "source": [
    "### Tuning the hyperparameter for XGBoost"
   ]
  },
  {
   "cell_type": "markdown",
   "metadata": {
    "papermill": {
     "duration": 0.047613,
     "end_time": "2020-12-17T09:55:24.623925",
     "exception": false,
     "start_time": "2020-12-17T09:55:24.576312",
     "status": "completed"
    },
    "tags": []
   },
   "source": [
    "- We can tune the hyperparameter for XGBClassifier to get a more balanced model, but it uses many time for tuning."
   ]
  },
  {
   "cell_type": "code",
   "execution_count": 30,
   "metadata": {
    "execution": {
     "iopub.execute_input": "2020-12-17T09:55:24.726700Z",
     "iopub.status.busy": "2020-12-17T09:55:24.725616Z",
     "iopub.status.idle": "2020-12-17T09:55:24.728995Z",
     "shell.execute_reply": "2020-12-17T09:55:24.728497Z"
    },
    "papermill": {
     "duration": 0.057381,
     "end_time": "2020-12-17T09:55:24.729109",
     "exception": false,
     "start_time": "2020-12-17T09:55:24.671728",
     "status": "completed"
    },
    "tags": []
   },
   "outputs": [],
   "source": [
    "#params = {\n",
    "    #'n_estimators':[50,100,200],\n",
    "    #'max_depth':[3,6,9],\n",
    "    #'learning_rate':[0.001,0.01,0.1],\n",
    "    #'subsample':[0.3,0.7,1],\n",
    "    #'colsample_bytree':[0.3,0.7,1]\n",
    "#}\n",
    "#cv = RepeatedStratifiedKFold(n_splits=10, n_repeats=2,random_state=11)\n",
    "#grid = GridSearchCV(XGBClassifier(random_state=11),params,cv=cv,n_jobs=-1,verbose=True,scoring='f1')\n",
    "#grid.fit(xs, ys)\n",
    "#print(grid.best_estimator_)"
   ]
  },
  {
   "cell_type": "markdown",
   "metadata": {
    "papermill": {
     "duration": 0.047885,
     "end_time": "2020-12-17T09:55:24.825202",
     "exception": false,
     "start_time": "2020-12-17T09:55:24.777317",
     "status": "completed"
    },
    "tags": []
   },
   "source": [
    "# Thank you very much"
   ]
  }
 ],
 "metadata": {
  "kernelspec": {
   "display_name": "Python 3",
   "language": "python",
   "name": "python3"
  },
  "language_info": {
   "codemirror_mode": {
    "name": "ipython",
    "version": 3
   },
   "file_extension": ".py",
   "mimetype": "text/x-python",
   "name": "python",
   "nbconvert_exporter": "python",
   "pygments_lexer": "ipython3",
   "version": "3.7.6"
  },
  "papermill": {
   "duration": 118.870998,
   "end_time": "2020-12-17T09:55:24.982243",
   "environment_variables": {},
   "exception": null,
   "input_path": "__notebook__.ipynb",
   "output_path": "__notebook__.ipynb",
   "parameters": {},
   "start_time": "2020-12-17T09:53:26.111245",
   "version": "2.1.0"
  }
 },
 "nbformat": 4,
 "nbformat_minor": 4
}
